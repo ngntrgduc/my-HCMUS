{
 "cells": [
  {
   "cell_type": "markdown",
   "metadata": {},
   "source": [
    "### Bài 1: Extended Euclidean Algorithm"
   ]
  },
  {
   "cell_type": "code",
   "execution_count": 80,
   "metadata": {},
   "outputs": [],
   "source": [
    "from math import gcd\n",
    "\n",
    "def EEA(u: int, v: int) -> int:\n",
    "    \"\"\"Extended Euclidean Algorithm\"\"\"\n",
    "    u1, u2, u3 = 1, 0, u\n",
    "    v1, v2, v3 = 0, 1, v\n",
    "    while v3 != 0:\n",
    "        q = u3 // v3\n",
    "        t1, t2, t3 = u1 - q*v1, u2 - q*v2, u3 - q*v3\n",
    "        u1, u2, u3 = v1, v2, v3\n",
    "        v1, v2, v3 = t1, t2, t3\n",
    "\n",
    "    # print(f'{u1}.{u} + {u2}.{v} = {u3}')\n",
    "    return u1, u2, u3"
   ]
  },
  {
   "cell_type": "code",
   "execution_count": 78,
   "metadata": {},
   "outputs": [
    {
     "name": "stdout",
     "output_type": "stream",
     "text": [
      "(13, 3) = 1 = 1.13 + -4.3\n",
      "(2, 4) = 2 = 1.2 + 0.4\n",
      "(10, 5) = 5 = 0.10 + 1.5\n",
      "(10, 10) = 10 = 0.10 + 1.10\n",
      "(123, 456) = 3 = -63.123 + 17.456\n"
     ]
    }
   ],
   "source": [
    "for _ in range(5):\n",
    "    u, v = int(input('Enter u:')), int(input('Enter v:'))\n",
    "    u1, u2, u3 = EEA(u, v)\n",
    "    print(f'({u}, {v}) = {u3} = {u1}.{u} + {u2}.{v}')"
   ]
  },
  {
   "cell_type": "markdown",
   "metadata": {},
   "source": [
    "### Bài 2: Chinese remainder theorem"
   ]
  },
  {
   "cell_type": "code",
   "execution_count": 79,
   "metadata": {},
   "outputs": [],
   "source": [
    "from IPython.display import display, Math # For display latex equation"
   ]
  },
  {
   "cell_type": "code",
   "execution_count": 77,
   "metadata": {},
   "outputs": [],
   "source": [
    "# Check if list of m is pairwise relatively prime\n",
    "from itertools import pairwise\n",
    "def validate_m(m_list):\n",
    "    for pair in pairwise(m_list):\n",
    "        if gcd(*pair) != 1:\n",
    "            raise ValueError('Invalid m')"
   ]
  },
  {
   "cell_type": "code",
   "execution_count": 66,
   "metadata": {},
   "outputs": [],
   "source": [
    "from functools import reduce\n",
    "\n",
    "def solve(a_list, m_list):\n",
    "    \"\"\"Solve system of congruences using Extended Euclidean Algorithm\"\"\"\n",
    "    M = reduce(lambda x, y: x * y, m_list)\n",
    "    x = 0\n",
    "    for a, m in zip(a_list, m_list):\n",
    "        m_k = M // m\n",
    "        # Find modular inverse\n",
    "        inv, _, _ = EEA(m_k, m)\n",
    "        x += a * m_k * inv\n",
    "\n",
    "    return x % M"
   ]
  },
  {
   "cell_type": "code",
   "execution_count": 75,
   "metadata": {},
   "outputs": [
    {
     "data": {
      "text/latex": [
       "$\\displaystyle x \\equiv 2 \\mod 5$"
      ],
      "text/plain": [
       "<IPython.core.display.Math object>"
      ]
     },
     "metadata": {},
     "output_type": "display_data"
    },
    {
     "data": {
      "text/latex": [
       "$\\displaystyle x \\equiv 3 \\mod 7$"
      ],
      "text/plain": [
       "<IPython.core.display.Math object>"
      ]
     },
     "metadata": {},
     "output_type": "display_data"
    },
    {
     "data": {
      "text/latex": [
       "$\\displaystyle  \\Rightarrow x \\equiv 17 \\mod 35$"
      ],
      "text/plain": [
       "<IPython.core.display.Math object>"
      ]
     },
     "metadata": {},
     "output_type": "display_data"
    },
    {
     "name": "stdout",
     "output_type": "stream",
     "text": [
      "\n"
     ]
    },
    {
     "data": {
      "text/latex": [
       "$\\displaystyle x \\equiv 4 \\mod 11$"
      ],
      "text/plain": [
       "<IPython.core.display.Math object>"
      ]
     },
     "metadata": {},
     "output_type": "display_data"
    },
    {
     "data": {
      "text/latex": [
       "$\\displaystyle x \\equiv 3 \\mod 17$"
      ],
      "text/plain": [
       "<IPython.core.display.Math object>"
      ]
     },
     "metadata": {},
     "output_type": "display_data"
    },
    {
     "data": {
      "text/latex": [
       "$\\displaystyle  \\Rightarrow x \\equiv 37 \\mod 187$"
      ],
      "text/plain": [
       "<IPython.core.display.Math object>"
      ]
     },
     "metadata": {},
     "output_type": "display_data"
    },
    {
     "name": "stdout",
     "output_type": "stream",
     "text": [
      "\n"
     ]
    },
    {
     "data": {
      "text/latex": [
       "$\\displaystyle x \\equiv 2 \\mod 3$"
      ],
      "text/plain": [
       "<IPython.core.display.Math object>"
      ]
     },
     "metadata": {},
     "output_type": "display_data"
    },
    {
     "data": {
      "text/latex": [
       "$\\displaystyle x \\equiv 3 \\mod 5$"
      ],
      "text/plain": [
       "<IPython.core.display.Math object>"
      ]
     },
     "metadata": {},
     "output_type": "display_data"
    },
    {
     "data": {
      "text/latex": [
       "$\\displaystyle x \\equiv 2 \\mod 7$"
      ],
      "text/plain": [
       "<IPython.core.display.Math object>"
      ]
     },
     "metadata": {},
     "output_type": "display_data"
    },
    {
     "data": {
      "text/latex": [
       "$\\displaystyle  \\Rightarrow x \\equiv 23 \\mod 105$"
      ],
      "text/plain": [
       "<IPython.core.display.Math object>"
      ]
     },
     "metadata": {},
     "output_type": "display_data"
    },
    {
     "name": "stdout",
     "output_type": "stream",
     "text": [
      "\n"
     ]
    },
    {
     "data": {
      "text/latex": [
       "$\\displaystyle x \\equiv 1 \\mod 3$"
      ],
      "text/plain": [
       "<IPython.core.display.Math object>"
      ]
     },
     "metadata": {},
     "output_type": "display_data"
    },
    {
     "data": {
      "text/latex": [
       "$\\displaystyle x \\equiv 2 \\mod 5$"
      ],
      "text/plain": [
       "<IPython.core.display.Math object>"
      ]
     },
     "metadata": {},
     "output_type": "display_data"
    },
    {
     "data": {
      "text/latex": [
       "$\\displaystyle x \\equiv 3 \\mod 7$"
      ],
      "text/plain": [
       "<IPython.core.display.Math object>"
      ]
     },
     "metadata": {},
     "output_type": "display_data"
    },
    {
     "data": {
      "text/latex": [
       "$\\displaystyle  \\Rightarrow x \\equiv 52 \\mod 105$"
      ],
      "text/plain": [
       "<IPython.core.display.Math object>"
      ]
     },
     "metadata": {},
     "output_type": "display_data"
    },
    {
     "name": "stdout",
     "output_type": "stream",
     "text": [
      "\n"
     ]
    },
    {
     "data": {
      "text/latex": [
       "$\\displaystyle x \\equiv 1 \\mod 5$"
      ],
      "text/plain": [
       "<IPython.core.display.Math object>"
      ]
     },
     "metadata": {},
     "output_type": "display_data"
    },
    {
     "data": {
      "text/latex": [
       "$\\displaystyle x \\equiv 2 \\mod 6$"
      ],
      "text/plain": [
       "<IPython.core.display.Math object>"
      ]
     },
     "metadata": {},
     "output_type": "display_data"
    },
    {
     "data": {
      "text/latex": [
       "$\\displaystyle x \\equiv 3 \\mod 7$"
      ],
      "text/plain": [
       "<IPython.core.display.Math object>"
      ]
     },
     "metadata": {},
     "output_type": "display_data"
    },
    {
     "data": {
      "text/latex": [
       "$\\displaystyle  \\Rightarrow x \\equiv 206 \\mod 210$"
      ],
      "text/plain": [
       "<IPython.core.display.Math object>"
      ]
     },
     "metadata": {},
     "output_type": "display_data"
    },
    {
     "name": "stdout",
     "output_type": "stream",
     "text": [
      "\n"
     ]
    }
   ],
   "source": [
    "for _ in range(5):\n",
    "    a_list = []\n",
    "    m_list = []\n",
    "    k = int(input('Input k: '))\n",
    "    for i in range(k):\n",
    "        temp = int(input(f'Enter a_{i+1}: '))\n",
    "        a_list.append(temp)\n",
    "        temp = int(input(f'Enter m_{i+1}: '))\n",
    "        m_list.append(temp)\n",
    "\n",
    "        validate_m(m_list)\n",
    "\n",
    "    for a, m in zip(a_list, m_list):\n",
    "        display(Math(f'x \\equiv {a} \\mod {m}'))\n",
    "\n",
    "    x = solve(a_list, m_list)\n",
    "    display(Math(f' \\Rightarrow x \\equiv {x} \\mod {reduce(lambda x, y: x * y, m_list)}'))\n",
    "    print()"
   ]
  }
 ],
 "metadata": {
  "kernelspec": {
   "display_name": "Python 3",
   "language": "python",
   "name": "python3"
  },
  "language_info": {
   "codemirror_mode": {
    "name": "ipython",
    "version": 3
   },
   "file_extension": ".py",
   "mimetype": "text/x-python",
   "name": "python",
   "nbconvert_exporter": "python",
   "pygments_lexer": "ipython3",
   "version": "3.10.6"
  }
 },
 "nbformat": 4,
 "nbformat_minor": 2
}
