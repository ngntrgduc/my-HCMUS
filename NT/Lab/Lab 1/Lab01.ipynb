{
 "cells": [
  {
   "cell_type": "code",
   "execution_count": 1,
   "metadata": {},
   "outputs": [],
   "source": [
    "import math\n",
    "import numpy as np"
   ]
  },
  {
   "cell_type": "markdown",
   "metadata": {},
   "source": [
    "1.\tViết chương trình Python theo các yêu cầu sau\n",
    "- Nhập 3 số nguyên a,b,c từ bàn phím \n",
    "- Hỏi người dùng muốn giải phương trình bậc hai hay không\n",
    "    - Nếu nhấn ‘yes’ hay 1 thì tiến hành giải và xuất kết quả nghiệm\n",
    "    - Nếu nhấn ‘no’ hay 0 thì tiến hành xuất câu “Have a nice day!”"
   ]
  },
  {
   "cell_type": "code",
   "execution_count": 26,
   "metadata": {},
   "outputs": [],
   "source": [
    "def solve(a, b, c):\n",
    "    \"\"\"Giải phương trình bậc 2\"\"\"\n",
    "\n",
    "    if a == 0:\n",
    "        if b == 0:\n",
    "            if c == 0:\n",
    "                print('Phương trình có vô số nghiệm')\n",
    "                return None\n",
    "            else:\n",
    "                print('Phương trình vô nghiệm')\n",
    "                return None\n",
    "        else:\n",
    "            print(f'Phương trình có nghiệm: {-c/b}')\n",
    "            return -c/b\n",
    "\n",
    "    delta = b**2 - 4*a*c\n",
    "\n",
    "    if delta < 0:\n",
    "        print('Phương trình vô nghiệm')\n",
    "        return None\n",
    "    elif delta == 0:\n",
    "        print(f'Phương trình có 1 nghiệm kép: {-b / (2*a)}')\n",
    "        return -b / (2*a)\n",
    "    else:\n",
    "        x1 = (-b + math.sqrt(delta)) / (2*a)\n",
    "        x2 = (-b - math.sqrt(delta)) / (2*a)\n",
    "        print('Phương trình có hai nghiệm phân biệt:')\n",
    "        print('x1 = ', x1)\n",
    "        print('x2 = ', x2)\n",
    "        return x1, x2"
   ]
  },
  {
   "cell_type": "code",
   "execution_count": 27,
   "metadata": {},
   "outputs": [],
   "source": [
    "def get_input():\n",
    "    a = int(input('Nhập a: '))\n",
    "    b = int(input('Nhập b: '))\n",
    "    c = int(input('Nhập c: '))\n",
    "    print(f'Phương trình đã nhập: {a}x^2 + {b}x + {c} = 0')\n",
    "    return a, b, c"
   ]
  },
  {
   "cell_type": "code",
   "execution_count": 28,
   "metadata": {},
   "outputs": [],
   "source": [
    "def ask():\n",
    "    a, b, c = get_input()\n",
    "    selection = input('Giải phương trình bậc hai? (yes/no hoặc 1/0): ')\n",
    "    print(f'Lựa chọn: {selection}')\n",
    "    if selection in ['yes', '1']:\n",
    "        solve(a, b, c)\n",
    "    elif selection in ['no', '0']:\n",
    "        print('Have a nice day!')"
   ]
  },
  {
   "cell_type": "code",
   "execution_count": 29,
   "metadata": {},
   "outputs": [
    {
     "name": "stdout",
     "output_type": "stream",
     "text": [
      "Phương trình đã nhập: 1x^2 + 2x + 1 = 0\n",
      "Lựa chọn: yes\n",
      "Phương trình có 1 nghiệm kép: -1.0\n"
     ]
    }
   ],
   "source": [
    "ask()"
   ]
  },
  {
   "cell_type": "code",
   "execution_count": 30,
   "metadata": {},
   "outputs": [
    {
     "name": "stdout",
     "output_type": "stream",
     "text": [
      "Phương trình đã nhập: 0x^2 + 1x + 5 = 0\n",
      "Lựa chọn: 1\n",
      "Phương trình có nghiệm: -5.0\n"
     ]
    }
   ],
   "source": [
    "ask()"
   ]
  },
  {
   "cell_type": "code",
   "execution_count": 31,
   "metadata": {},
   "outputs": [
    {
     "name": "stdout",
     "output_type": "stream",
     "text": [
      "Phương trình đã nhập: 0x^2 + 0x + 0 = 0\n",
      "Lựa chọn: 1\n",
      "Phương trình có vô số nghiệm\n"
     ]
    }
   ],
   "source": [
    "ask()"
   ]
  },
  {
   "cell_type": "code",
   "execution_count": 35,
   "metadata": {},
   "outputs": [
    {
     "name": "stdout",
     "output_type": "stream",
     "text": [
      "Phương trình đã nhập: 3x^2 + 2x + 5 = 0\n",
      "Lựa chọn: 1\n",
      "Phương trình vô nghiệm\n"
     ]
    }
   ],
   "source": [
    "ask()"
   ]
  },
  {
   "cell_type": "code",
   "execution_count": 33,
   "metadata": {},
   "outputs": [
    {
     "name": "stdout",
     "output_type": "stream",
     "text": [
      "Phương trình đã nhập: 0x^2 + 0x + 3 = 0\n",
      "Lựa chọn: 1\n",
      "Phương trình vô nghiệm\n"
     ]
    }
   ],
   "source": [
    "ask()"
   ]
  },
  {
   "cell_type": "code",
   "execution_count": 32,
   "metadata": {},
   "outputs": [
    {
     "name": "stdout",
     "output_type": "stream",
     "text": [
      "Phương trình đã nhập: 1x^2 + 1x + 1 = 0\n",
      "Lựa chọn: no\n",
      "Have a nice day!\n"
     ]
    }
   ],
   "source": [
    "ask()"
   ]
  },
  {
   "cell_type": "markdown",
   "metadata": {},
   "source": [
    "2. Viết chương trình giải một hệ phương trình tuyến tính 3 biến x, y, z với các hệ số nhập từ bàn phím. Sau khi nhập hệ số thì hiển thị hệ phương trình trước khi giải. Có phân các TH nghiệm."
   ]
  },
  {
   "cell_type": "code",
   "execution_count": 10,
   "metadata": {},
   "outputs": [],
   "source": [
    "def solve_system_of_equations(A, b):\n",
    "    \"\"\"Giải hệ phương trình 3 ẩn sử dụng ma trận\"\"\"\n",
    "    if np.linalg.matrix_rank(A) < 3:\n",
    "        stacked = np.column_stack((A, b))\n",
    "        if np.linalg.matrix_rank(A) == np.linalg.matrix_rank(stacked):\n",
    "            print('=> Hệ phương trình có vô số nghiệm')\n",
    "        else:\n",
    "            print('=> Hệ phương trình vô nghiệm')\n",
    "        return None\n",
    "    \n",
    "    try:\n",
    "        X = np.linalg.solve(A, b)\n",
    "        x, y, z = X\n",
    "        print(f'=> Hệ phương trình có nghiệm là:\\n x = {x}\\n y = {y}\\n z = {z}')\n",
    "\n",
    "    except np.linalg.LinAlgError as e:\n",
    "        print('=> Hệ phương trình không giải được')\n",
    "        print(e)\n",
    "        return None"
   ]
  },
  {
   "cell_type": "code",
   "execution_count": 11,
   "metadata": {},
   "outputs": [],
   "source": [
    "def get_input_for_system_of_equations():\n",
    "    a1 = float(input('Nhập hệ số a1: '))\n",
    "    b1 = float(input('Nhập hệ số b1: '))\n",
    "    c1 = float(input('Nhập hệ số c1: '))\n",
    "    d1 = float(input('Nhập hệ số d1: '))\n",
    "\n",
    "    a2 = float(input('Nhập hệ số a2: '))\n",
    "    b2 = float(input('Nhập hệ số b2: '))\n",
    "    c2 = float(input('Nhập hệ số c2: '))\n",
    "    d2 = float(input('Nhập hệ số d2: '))\n",
    "\n",
    "    a3 = float(input('Nhập hệ số a3: '))\n",
    "    b3 = float(input('Nhập hệ số b3: '))\n",
    "    c3 = float(input('Nhập hệ số c3: '))\n",
    "    d3 = float(input('Nhập hệ số d3: '))\n",
    "\n",
    "    print('Hệ phương trình vừa nhập:')\n",
    "    print(f'{a1}x + {b1}y + {c1}z = {d1}')\n",
    "    print(f'{a2}x + {b2}y + {c2}z = {d2}')\n",
    "    print(f'{a3}x + {b3}y + {c3}z = {d3}')\n",
    "\n",
    "    A = [[a1, b1, c1], \n",
    "         [a2, b2, c2],\n",
    "         [a3, b3, c3]]\n",
    "    b = [d1, d2, d3]\n",
    "\n",
    "    return A, b"
   ]
  },
  {
   "cell_type": "code",
   "execution_count": 12,
   "metadata": {},
   "outputs": [
    {
     "name": "stdout",
     "output_type": "stream",
     "text": [
      "Hệ phương trình vừa nhập:\n",
      "1.0x + 1.0y + -2.0z = 3.0\n",
      "0.0x + 1.0y + 1.0z = 7.0\n",
      "0.0x + 0.0y + 2.0z = 4.0\n",
      "=> Hệ phương trình có nghiệm là:\n",
      " x = 2.0\n",
      " y = 5.0\n",
      " z = 2.0\n"
     ]
    }
   ],
   "source": [
    "A, b = get_input_for_system_of_equations()\n",
    "solve_system_of_equations(A, b)"
   ]
  },
  {
   "cell_type": "code",
   "execution_count": 13,
   "metadata": {},
   "outputs": [
    {
     "name": "stdout",
     "output_type": "stream",
     "text": [
      "Hệ phương trình vừa nhập:\n",
      "1.0x + 2.0y + 3.0z = 9.0\n",
      "-2.0x + 1.0y + -5.0z = -24.0\n",
      "3.0x + -2.0y + 1.0z = 11.0\n",
      "=> Hệ phương trình có nghiệm là:\n",
      " x = 1.0000000000000002\n",
      " y = -1.9999999999999996\n",
      " z = 4.0\n"
     ]
    }
   ],
   "source": [
    "A, b = get_input_for_system_of_equations()\n",
    "solve_system_of_equations(A, b)"
   ]
  },
  {
   "cell_type": "code",
   "execution_count": 14,
   "metadata": {},
   "outputs": [
    {
     "name": "stdout",
     "output_type": "stream",
     "text": [
      "Hệ phương trình vừa nhập:\n",
      "1.0x + 1.0y + 1.0z = 1.0\n",
      "1.0x + 1.0y + 1.0z = 1.0\n",
      "1.0x + 1.0y + 1.0z = 1.0\n",
      "=> Hệ phương trình có vô số nghiệm\n"
     ]
    }
   ],
   "source": [
    "A, b = get_input_for_system_of_equations()\n",
    "solve_system_of_equations(A, b)"
   ]
  },
  {
   "cell_type": "code",
   "execution_count": 15,
   "metadata": {},
   "outputs": [
    {
     "name": "stdout",
     "output_type": "stream",
     "text": [
      "Hệ phương trình vừa nhập:\n",
      "2.0x + 1.0y + -6.0z = 1.0\n",
      "3.0x + 2.0y + -5.0z = 5.0\n",
      "7.0x + 4.0y + -17.0z = 7.0\n",
      "=> Hệ phương trình có vô số nghiệm\n"
     ]
    }
   ],
   "source": [
    "A, b = get_input_for_system_of_equations()\n",
    "solve_system_of_equations(A, b)"
   ]
  },
  {
   "cell_type": "code",
   "execution_count": 16,
   "metadata": {},
   "outputs": [
    {
     "name": "stdout",
     "output_type": "stream",
     "text": [
      "Hệ phương trình vừa nhập:\n",
      "1.0x + 1.0y + 1.0z = 1.0\n",
      "0.0x + 1.0y + 1.0z = 1.0\n",
      "0.0x + 1.0y + 1.0z = 2.0\n",
      "=> Hệ phương trình vô nghiệm\n"
     ]
    }
   ],
   "source": [
    "A, b = get_input_for_system_of_equations()\n",
    "solve_system_of_equations(A, b)"
   ]
  },
  {
   "cell_type": "code",
   "execution_count": 18,
   "metadata": {},
   "outputs": [
    {
     "name": "stdout",
     "output_type": "stream",
     "text": [
      "Hệ phương trình vừa nhập:\n",
      "1.0x + 1.0y + 1.0z = 1.0\n",
      "0.0x + 1.0y + 1.0z = 1.0\n",
      "0.0x + 1.0y + 1.0z = 1.0\n",
      "=> Hệ phương trình có vô số nghiệm\n"
     ]
    }
   ],
   "source": [
    "A, b = get_input_for_system_of_equations()\n",
    "solve_system_of_equations(A, b)"
   ]
  },
  {
   "cell_type": "markdown",
   "metadata": {},
   "source": [
    "Giải hệ phương trình sử dụng phương pháp Cramer:"
   ]
  },
  {
   "cell_type": "code",
   "execution_count": 19,
   "metadata": {},
   "outputs": [],
   "source": [
    "def cramer_solver(A, b):\n",
    "    \"\"\"Giải hệ phương trình 3 ẩn sử dụng phương pháp Cramer\"\"\"\n",
    "    if np.linalg.matrix_rank(A) < 3:\n",
    "        stacked = np.column_stack((A, b))\n",
    "        if np.linalg.matrix_rank(A) == np.linalg.matrix_rank(stacked):\n",
    "            print('=> Hệ phương trình có vô số nghiệm')\n",
    "        else:\n",
    "            print('=> Hệ phương trình vô nghiệm')\n",
    "        return None\n",
    "    \n",
    "    det_A = np.linalg.det(A)\n",
    "    dets = np.array([])\n",
    "\n",
    "    try:\n",
    "        for i in range(3):\n",
    "            tempt_A = np.array(A)\n",
    "            tempt_A[:, i] = b\n",
    "            det_Ai = np.linalg.det(tempt_A)\n",
    "            dets = np.append(dets, det_Ai)\n",
    "        x, y, z = dets / det_A\n",
    "        print(f'=> Hệ phương trình có nghiệm là:\\n x = {x}\\n y = {y}\\n z = {z}')\n",
    "    except np.linalg.LinAlgError as e:\n",
    "        print('=> Hệ phương trình không giải được')\n",
    "        print(e)\n",
    "        return None"
   ]
  },
  {
   "cell_type": "code",
   "execution_count": 20,
   "metadata": {},
   "outputs": [
    {
     "name": "stdout",
     "output_type": "stream",
     "text": [
      "=> Hệ phương trình có nghiệm là:\n",
      " x = 1.9999999999999996\n",
      " y = 4.999999999999999\n",
      " z = 2.0\n"
     ]
    }
   ],
   "source": [
    "# Hệ phương trình:\n",
    "# 1.0x + 1.0y + -2.0z = 3.0\n",
    "# 0.0x + 1.0y + 1.0z = 7.0\n",
    "# 0.0x + 0.0y + 2.0z = 4.0\n",
    "# => Hệ phương trình có nghiệm là:\n",
    "#  x = 2.0, y = 5.0, z = 2.0\n",
    "\n",
    "A = [[1, 1, -2], [0, 1, 1], [0, 0, 2]]\n",
    "b = [3, 7, 4]\n",
    "cramer_solver(A, b)"
   ]
  },
  {
   "cell_type": "code",
   "execution_count": 21,
   "metadata": {},
   "outputs": [
    {
     "name": "stdout",
     "output_type": "stream",
     "text": [
      "=> Hệ phương trình có nghiệm là:\n",
      " x = 0.9999999999999996\n",
      " y = -2.0\n",
      " z = 4.000000000000001\n"
     ]
    }
   ],
   "source": [
    "# Hệ phương trình:\n",
    "# 1.0x + 2.0y + 3.0z = 9.0\n",
    "# -2.0x + 1.0y + -5.0z = -24.0\n",
    "# 3.0x + -2.0y + 1.0z = 11.0\n",
    "# => Hệ phương trình có nghiệm là:\n",
    "#  x = 1.0000000000000002, y = -1.9999999999999996, z = 4.0\n",
    "\n",
    "A = [[1, 2, 3], [-2, 1, -5], [3, -2, 1]]\n",
    "b = [9, -24, 11]\n",
    "cramer_solver(A, b)"
   ]
  },
  {
   "cell_type": "code",
   "execution_count": 22,
   "metadata": {},
   "outputs": [
    {
     "name": "stdout",
     "output_type": "stream",
     "text": [
      "=> Hệ phương trình có vô số nghiệm\n"
     ]
    }
   ],
   "source": [
    "# Hệ phương trình:\n",
    "# 1.0x + 1.0y + 1.0z = 1.0\n",
    "# 1.0x + 1.0y + 1.0z = 1.0\n",
    "# 1.0x + 1.0y + 1.0z = 1.0\n",
    "# => Hệ phương trình có vô số nghiệm\n",
    "\n",
    "A = [[1, 1, 1], [1, 1, 1], [1, 1, 1]]\n",
    "b = [1, 1, 1]\n",
    "cramer_solver(A, b)"
   ]
  },
  {
   "cell_type": "code",
   "execution_count": 23,
   "metadata": {},
   "outputs": [
    {
     "name": "stdout",
     "output_type": "stream",
     "text": [
      "=> Hệ phương trình có vô số nghiệm\n"
     ]
    }
   ],
   "source": [
    "# Hệ phương trình:\n",
    "# 2.0x + 1.0y + -6.0z = 1.0\n",
    "# 3.0x + 2.0y + -5.0z = 5.0\n",
    "# 7.0x + 4.0y + -17.0z = 7.0\n",
    "# => Hệ phương trình có vô số nghiệm\n",
    "\n",
    "A = [[2, 1, -6], [3, 2, -5], [7, 4, -17]]\n",
    "b = [1, 5, 7]\n",
    "cramer_solver(A, b)"
   ]
  },
  {
   "cell_type": "code",
   "execution_count": 24,
   "metadata": {},
   "outputs": [
    {
     "name": "stdout",
     "output_type": "stream",
     "text": [
      "=> Hệ phương trình vô nghiệm\n"
     ]
    }
   ],
   "source": [
    "# Hệ phương trình:\n",
    "# 1.0x + 1.0y + 1.0z = 1.0\n",
    "# 0.0x + 1.0y + 1.0z = 1.0\n",
    "# 0.0x + 1.0y + 1.0z = 2.0\n",
    "# => Hệ phương trình vô nghiệm\n",
    "\n",
    "A = [[1, 1, 1], [0, 1, 1], [0, 1, 1]]\n",
    "b = [1, 1, 2]\n",
    "cramer_solver(A, b)"
   ]
  },
  {
   "cell_type": "code",
   "execution_count": 25,
   "metadata": {},
   "outputs": [
    {
     "name": "stdout",
     "output_type": "stream",
     "text": [
      "=> Hệ phương trình có vô số nghiệm\n"
     ]
    }
   ],
   "source": [
    "# Hệ phương trình:\n",
    "# 1.0x + 1.0y + 1.0z = 1.0\n",
    "# 0.0x + 1.0y + 1.0z = 1.0\n",
    "# 0.0x + 1.0y + 1.0z = 1.0\n",
    "# => Hệ phương trình có vô số nghiệm\n",
    "\n",
    "A = [[1, 1, 1], [0, 1, 1], [0, 1, 1]]\n",
    "b = [1, 1, 1]\n",
    "cramer_solver(A, b)"
   ]
  }
 ],
 "metadata": {
  "kernelspec": {
   "display_name": "Python 3",
   "language": "python",
   "name": "python3"
  },
  "language_info": {
   "codemirror_mode": {
    "name": "ipython",
    "version": 3
   },
   "file_extension": ".py",
   "mimetype": "text/x-python",
   "name": "python",
   "nbconvert_exporter": "python",
   "pygments_lexer": "ipython3",
   "version": "3.10.6"
  }
 },
 "nbformat": 4,
 "nbformat_minor": 2
}
