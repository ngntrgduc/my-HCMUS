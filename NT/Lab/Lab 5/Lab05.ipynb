{
 "cells": [
  {
   "cell_type": "markdown",
   "metadata": {},
   "source": [
    "Xây dựng lớp PrimalityTest để so sánh thời gian chạy (running time) của các thuật toán đã học:\n",
    "\n",
    "1. Thuật toán tất định (Trial division) trang 71, định lý 3.2 trong giáo trình.\n",
    "\n",
    "2. Thuật toán Rabin-Miller, xem lại từ trang 228 tới hết section.\n",
    "\n",
    "3. Thuật toán Soloway – Strassen, định lý 11.18 trang 460 (lưu ý thuật toán này có cần một hàm số để tính kí hiệu Jacobi, xem thêm từ trang 448 tới định lý 11.12 để hiểu cách tính nhanh).\n",
    "\n",
    "Lớp PrimalityTest có chức năng sau:\n",
    "\n",
    "- Truyền vào một số nguyên dương n, nếu người dùng nhập vào số âm hay số thực thì báo lỗi nhập sai bắt nhập lại cho đến khi đúng là số nguyên dương thì thôi.\n",
    "\n",
    "- Có chức năng kiểm tra số vừa nhập là số nguyên tố hay hợp số cho mỗi thuật toán trong các thuật toán trên, hiển thị thêm thời gian chạy.\n",
    "\n",
    "- Có chức năng so sánh thuật toán nào chạy nhanh hơn (chẳng hạn A>B>C)\n",
    "\n",
    "Lưu ý: Không dùng sympy. Hướng dẫn cách nhập test case.\n",
    "\n",
    "- Case 1: n là một số nguyên tố hoặc hợp số < 1000.\n",
    "\n",
    "- Case 2: lấy hai số nguyên tố p và q có 4 chữ số rồi nhân lại với nhau ta được n=pq\n",
    "\n",
    "- Case 3: Lên google tìm một số nguyên tố có 7 hoặc 8 chữ số rồi nhập vào."
   ]
  },
  {
   "cell_type": "code",
   "execution_count": 180,
   "metadata": {},
   "outputs": [],
   "source": [
    "from time import perf_counter # using perf_counter is more precise than time()\n",
    "import math\n",
    "# from rich import print # pretty print\n",
    "import random\n",
    "import numpy as np\n",
    "from collections.abc import Callable\n",
    "from functools import wraps\n",
    "from typing import Literal\n",
    "from itertools import pairwise\n",
    "\n",
    "def timing(func: Callable):\n",
    "    \"\"\"Output time taken of function\"\"\"\n",
    "\n",
    "    @wraps(func)\n",
    "    def wrapper(*args, **kwargs):\n",
    "        tic = perf_counter()\n",
    "        result = func(*args, **kwargs)\n",
    "        duration = np.format_float_positional(perf_counter() - tic)\n",
    "        print(f' - {func.__name__}() took {duration}s')\n",
    "        return result\n",
    "\n",
    "    return wrapper\n"
   ]
  },
  {
   "cell_type": "code",
   "execution_count": 196,
   "metadata": {},
   "outputs": [],
   "source": [
    "class PrimalityTest:\n",
    "    def __init__(self, number) -> None:\n",
    "        while not isinstance(number, int) or number < 0:\n",
    "            print(f'{number} is invalid. Number must be integer positive')\n",
    "            try:\n",
    "                number = input('Enter number: ')\n",
    "                number = int(number)\n",
    "            except ValueError:\n",
    "                pass\n",
    "\n",
    "        self.number = number\n",
    "\n",
    "    def __repr__(self):\n",
    "        return str(self.number)\n",
    "    \n",
    "    @timing\n",
    "    def is_prime(self, get_duration=False) -> bool | float:\n",
    "        \"\"\"Check if a number is a prime, using Trial division\"\"\"\n",
    "        if get_duration:\n",
    "            tic = perf_counter()\n",
    "        \n",
    "        if self.number == 2:\n",
    "            return True\n",
    "\n",
    "        if self.number < 2 or self.number % 2 == 0:\n",
    "            return False\n",
    "\n",
    "        i = 3\n",
    "        while i < math.floor(math.sqrt(self.number)) + 1:\n",
    "            if self.number % i == 0:\n",
    "                if get_duration:\n",
    "                    return perf_counter() - tic\n",
    "                return False\n",
    "            i += 2\n",
    "\n",
    "        if get_duration:\n",
    "            return perf_counter() - tic\n",
    "        return True\n",
    "\n",
    "    @timing    \n",
    "    def is_composite(self) -> bool:\n",
    "        \"\"\"Check if a number is composite\"\"\"\n",
    "        for i in range(2, self.number):\n",
    "            if self.number % i == 0:\n",
    "                return True\n",
    "\n",
    "        return False\n",
    "\n",
    "    @timing\n",
    "    def rabin_miller(self, k=10, get_duration=False) -> bool | float:\n",
    "        \"\"\"Rabin-Miller test, return False if number is composite, \n",
    "        True if number is probably prime\n",
    "        \"\"\"\n",
    "        \n",
    "        def miller_test(b, n):\n",
    "            # n - 1 = t.2^s\n",
    "            t = n - 1\n",
    "            while t % 2 == 0:\n",
    "                t //= 2\n",
    "            \n",
    "            if pow(b, t, n) == 1:\n",
    "                return True\n",
    "\n",
    "            while t < n - 1:\n",
    "                if pow(b, t, n) == n - 1:\n",
    "                    return True\n",
    "                \n",
    "                t *= 2\n",
    "\n",
    "            return False\n",
    "\n",
    "        if get_duration:\n",
    "            tic = perf_counter()\n",
    "        \n",
    "        if self.number < 2 or self.number % 2 == 0:\n",
    "            return False\n",
    "        \n",
    "        # n - 1 = 2^s.t\n",
    "        for _ in range(k):\n",
    "            b = random.randint(1, self.number - 1)\n",
    "            if not miller_test(b, self.number):\n",
    "                if get_duration:\n",
    "                    return perf_counter() - tic\n",
    "                return False\n",
    "\n",
    "        if get_duration:\n",
    "            return perf_counter() - tic\n",
    "        return True\n",
    "\n",
    "    @timing\n",
    "    def solovay_strassen(self, k=10, get_duration=False) -> bool | float:\n",
    "        \"\"\"Solovay Strassen test\"\"\"\n",
    "\n",
    "        def jacobi_symbol(a, b) -> Literal[-1, 0, 1]:\n",
    "            \"\"\"Fast calculate Jacobi symbol\"\"\"\n",
    "            if math.gcd(a, b) != 1:\n",
    "                return 0\n",
    "            b_list, s_list = [], []\n",
    "            r = a - (a // b) * b\n",
    "            while r > 1:\n",
    "                r = a - (a // b) * b\n",
    "                s = 0\n",
    "                while r % 2 == 0:\n",
    "                    s += 1\n",
    "                    r //= 2\n",
    "                s_list.append(s)\n",
    "                b_list.append(b)\n",
    "                a, b = b, r\n",
    "\n",
    "            exponent = 0\n",
    "            for s, b in zip(s_list, b_list):\n",
    "                exponent += s * ((b**2 - 1) // 8)\n",
    "\n",
    "            for x, y in list(pairwise(b_list)):\n",
    "                exponent += (x-1) * (y-1) // 4\n",
    "                        \n",
    "            return -1 if exponent & 1 else 1\n",
    "        \n",
    "        if get_duration:\n",
    "            tic = perf_counter()\n",
    "        \n",
    "        if self.number < 2 or self.number % 2 == 0:\n",
    "            return False\n",
    "        \n",
    "        for _ in range(k):\n",
    "            b = random.randint(1, self.number-1)\n",
    "            j = jacobi_symbol(b, self.number)\n",
    "            if j == 0 or pow(b, (self.number-1)//2, self.number) != j % self.number:\n",
    "                if get_duration:\n",
    "                    return perf_counter() - tic\n",
    "                return False\n",
    "        \n",
    "        if get_duration:\n",
    "            return perf_counter() - tic\n",
    "        return True\n",
    "\n",
    "    def performance(self, k=10) -> None:\n",
    "        result = {}\n",
    "        result['trial_division'] = self.is_prime(get_duration=True)\n",
    "        result['rabin_miller'] = self.rabin_miller(k, get_duration=True)\n",
    "        result['solovay_strassen'] = self.solovay_strassen(k, get_duration=True)\n",
    "\n",
    "        result = {k: v for k, v in \n",
    "                  sorted(result.items(), key=lambda item: item[1])}\n",
    "        print('=> Performance: ', end='')\n",
    "        for i, (func, duration) in enumerate(result.items()):\n",
    "            if i == 2:\n",
    "                print(f'{func}', end='')\n",
    "            else:\n",
    "                print(f'{func} > ', end='')\n",
    "        print()"
   ]
  },
  {
   "cell_type": "code",
   "execution_count": 182,
   "metadata": {},
   "outputs": [
    {
     "name": "stdout",
     "output_type": "stream",
     "text": [
      "-12 is invalid. Number must be integer positive\n",
      "-123 is invalid. Number must be integer positive\n",
      "1.5 is invalid. Number must be integer positive\n",
      "n currently is 2\n"
     ]
    }
   ],
   "source": [
    "n = PrimalityTest(-12)\n",
    "print(f'n currently is {n.number}')"
   ]
  },
  {
   "cell_type": "code",
   "execution_count": 197,
   "metadata": {},
   "outputs": [
    {
     "name": "stdout",
     "output_type": "stream",
     "text": [
      " - is_prime() took 0.000004599918611347675s\n",
      "1 is not prime\n",
      " - is_prime() took 0.000002600019797682762s\n",
      "2 is prime\n",
      " - is_prime() took 0.000006500049494206905s\n",
      "3 is prime\n",
      " - is_prime() took 0.000000600004568696022s\n",
      "4 is not prime\n",
      " - is_prime() took 0.000001300009898841381s\n",
      "5 is prime\n",
      " - is_prime() took 0.000000500003807246685s\n",
      "6 is not prime\n",
      " - is_prime() took 0.00000100000761449337s\n",
      "7 is prime\n",
      " - is_prime() took 0.000000500003807246685s\n",
      "8 is not prime\n",
      " - is_prime() took 0.000001500011421740055s\n",
      "9 is not prime\n",
      " - is_prime() took 0.000000700005330145359s\n",
      "10 is not prime\n"
     ]
    }
   ],
   "source": [
    "for i in range(1, 11):\n",
    "    if PrimalityTest(i).is_prime():\n",
    "        print(i, 'is prime')\n",
    "    else:\n",
    "        print(i, 'is not prime')"
   ]
  },
  {
   "cell_type": "code",
   "execution_count": 198,
   "metadata": {},
   "outputs": [
    {
     "name": "stdout",
     "output_type": "stream",
     "text": [
      " - is_composite() took 0.0000030999071896076202s\n",
      "1 is not composite\n",
      " - is_composite() took 0.000001100008375942707s\n",
      "2 is not composite\n",
      " - is_composite() took 0.000001200009137392044s\n",
      "3 is not composite\n",
      " - is_composite() took 0.000000700005330145359s\n",
      "4 is composite\n",
      " - is_composite() took 0.000000800006091594696s\n",
      "5 is not composite\n",
      " - is_composite() took 0.000000600004568696022s\n",
      "6 is composite\n",
      " - is_composite() took 0.000000800006091594696s\n",
      "7 is not composite\n",
      " - is_composite() took 0.000000500003807246685s\n",
      "8 is composite\n",
      " - is_composite() took 0.000000600004568696022s\n",
      "9 is composite\n",
      " - is_composite() took 0.000000500003807246685s\n",
      "10 is composite\n"
     ]
    }
   ],
   "source": [
    "for i in range(1, 11):\n",
    "    if PrimalityTest(i).is_composite():\n",
    "        print(i, 'is composite')\n",
    "    else:\n",
    "        print(i, 'is not composite')"
   ]
  },
  {
   "cell_type": "markdown",
   "metadata": {},
   "source": [
    "## Case 1"
   ]
  },
  {
   "cell_type": "code",
   "execution_count": 199,
   "metadata": {},
   "outputs": [
    {
     "name": "stdout",
     "output_type": "stream",
     "text": [
      " - is_prime() took 0.000006900052540004253s\n",
      "Using Trial division, 499 is prime\n",
      " - rabin_miller() took 0.00003450002986937761s\n",
      "Using Rabin-Miller test, 499 probably prime\n",
      " - solovay_strassen() took 0.000051600043661892414s\n",
      "Using Solovay Strassen test, 499 probably prime\n",
      "\n",
      " - is_prime() took 0.000004200031980872154s\n",
      " - rabin_miller() took 0.00002519995905458927s\n",
      " - solovay_strassen() took 0.000042499974370002747s\n",
      "=> Performance: trial_division > rabin_miller > solovay_strassen\n"
     ]
    }
   ],
   "source": [
    "# source: https://t5k.org/curios/page.php/499.html\n",
    "n = PrimalityTest(499)\n",
    "if n.is_prime():\n",
    "    print(f'Using Trial division, {n} is prime')\n",
    "else:\n",
    "    print(f'Using Trial division, {n} is composite')\n",
    "\n",
    "if n.rabin_miller():\n",
    "    print(f'Using Rabin-Miller test, {n} probably prime')\n",
    "else:\n",
    "    print(f'Using Rabin-Miller test, {n} is composite')\n",
    "\n",
    "if n.solovay_strassen():\n",
    "    print(f'Using Solovay Strassen test, {n} probably prime')\n",
    "else:\n",
    "    print(f'Using Solovay Strassen test, {n} is composite')\n",
    "print()\n",
    "n.performance()"
   ]
  },
  {
   "cell_type": "code",
   "execution_count": 200,
   "metadata": {},
   "outputs": [
    {
     "name": "stdout",
     "output_type": "stream",
     "text": [
      "n = 152\n",
      " - is_prime() took 0.000002600019797682762s\n",
      " - rabin_miller() took 0.000001600012183189392s\n",
      " - solovay_strassen() took 0.000005600042641162872s\n",
      "=> Performance: trial_division > rabin_miller > solovay_strassen\n",
      "n = 184\n",
      " - is_prime() took 0.0000004998873919248581s\n",
      " - rabin_miller() took 0.000000500003807246685s\n",
      " - solovay_strassen() took 0.000001300009898841381s\n",
      "=> Performance: trial_division > rabin_miller > solovay_strassen\n",
      "n = 343\n",
      " - is_prime() took 0.000003400025889277458s\n",
      " - rabin_miller() took 0.000008999952115118504s\n",
      " - solovay_strassen() took 0.000010999967344105244s\n",
      "=> Performance: trial_division > rabin_miller > solovay_strassen\n",
      "n = 327\n",
      " - is_prime() took 0.00000100000761449337s\n",
      " - rabin_miller() took 0.000003400025889277458s\n",
      " - solovay_strassen() took 0.000006299931555986404s\n",
      "=> Performance: trial_division > rabin_miller > solovay_strassen\n",
      "n = 626\n",
      " - is_prime() took 0.000000500003807246685s\n",
      " - rabin_miller() took 0.0000004998873919248581s\n",
      " - solovay_strassen() took 0.000001200009137392044s\n",
      "=> Performance: trial_division > rabin_miller > solovay_strassen\n"
     ]
    }
   ],
   "source": [
    "for n in random.sample(range(2, 1000), 5):\n",
    "    n = PrimalityTest(n)\n",
    "    print(f'{n = }')\n",
    "    n.performance()"
   ]
  },
  {
   "cell_type": "markdown",
   "metadata": {},
   "source": [
    "## Case 2"
   ]
  },
  {
   "cell_type": "code",
   "execution_count": 201,
   "metadata": {},
   "outputs": [],
   "source": [
    "def generate_random_prime():\n",
    "    \"\"\"Generate a prime have 4 digits\"\"\"\n",
    "    def is_prime(n) -> bool:\n",
    "        if n == 2:\n",
    "            return True\n",
    "\n",
    "        if n < 2 or n % 2 == 0:\n",
    "            return False\n",
    "\n",
    "        i = 3\n",
    "        while i < math.floor(math.sqrt(n)) + 1:\n",
    "            if n % i == 0:\n",
    "                return False\n",
    "            i += 2\n",
    "\n",
    "        return True\n",
    "    \n",
    "    checked = set()\n",
    "    while True:\n",
    "        n = random.randint(1001, 9999)\n",
    "        while n % 2 == 0 or n in checked:\n",
    "            n = random.randint(1001, 9999)\n",
    "\n",
    "        if is_prime(n):\n",
    "            return n\n",
    "        else:\n",
    "            checked.add(n)"
   ]
  },
  {
   "cell_type": "code",
   "execution_count": 202,
   "metadata": {},
   "outputs": [
    {
     "name": "stdout",
     "output_type": "stream",
     "text": [
      "p = 7027\n",
      "q = 5861\n",
      "n = 41185247\n",
      " - is_prime() took 0.0004257999826222658s\n",
      "False\n",
      " - rabin_miller() took 0.00000879995059221983s\n",
      "False\n",
      " - solovay_strassen() took 0.00002319994382560253s\n",
      "False\n",
      "\n",
      " - is_prime() took 0.0004190000472590327s\n",
      " - rabin_miller() took 0.000005799927748739719s\n",
      " - solovay_strassen() took 0.000013599987141788006s\n",
      "=> Performance: rabin_miller > solovay_strassen > trial_division\n"
     ]
    }
   ],
   "source": [
    "p = generate_random_prime()\n",
    "print(f'{p = }')\n",
    "q = generate_random_prime()\n",
    "print(f'{q = }')\n",
    "n = PrimalityTest(p * q)\n",
    "print(f'{n = }')\n",
    "\n",
    "print(n.is_prime())\n",
    "print(n.rabin_miller())\n",
    "print(n.solovay_strassen())\n",
    "print()\n",
    "n.performance()"
   ]
  },
  {
   "cell_type": "code",
   "execution_count": 203,
   "metadata": {},
   "outputs": [
    {
     "name": "stdout",
     "output_type": "stream",
     "text": [
      "p = 6469, q = 1009, n = 6527221\n",
      " - is_prime() took 0.00008130003698170185s\n",
      " - rabin_miller() took 0.000013599987141788006s\n",
      " - solovay_strassen() took 0.000020700041204690933s\n",
      "=> Performance: rabin_miller > solovay_strassen > trial_division\n",
      "\n",
      "p = 6299, q = 5503, n = 34663397\n",
      " - is_prime() took 0.00042470009066164494s\n",
      " - rabin_miller() took 0.000007500057108700275s\n",
      " - solovay_strassen() took 0.000014899997040629387s\n",
      "=> Performance: rabin_miller > solovay_strassen > trial_division\n",
      "\n",
      "p = 4679, q = 1709, n = 7996411\n",
      " - is_prime() took 0.00021939992439001799s\n",
      " - rabin_miller() took 0.00000909995287656784s\n",
      " - solovay_strassen() took 0.00002619996666908264s\n",
      "=> Performance: rabin_miller > solovay_strassen > trial_division\n",
      "\n",
      "p = 2083, q = 6619, n = 13787377\n",
      " - is_prime() took 0.0002943000290542841s\n",
      " - rabin_miller() took 0.000020200037397444248s\n",
      " - solovay_strassen() took 0.000031100003980100155s\n",
      "=> Performance: rabin_miller > solovay_strassen > trial_division\n",
      "\n",
      "p = 3727, q = 7883, n = 29379941\n",
      " - is_prime() took 0.00033389998134225607s\n",
      " - rabin_miller() took 0.00000600004568696022s\n",
      " - solovay_strassen() took 0.000011399970389902592s\n",
      "=> Performance: rabin_miller > solovay_strassen > trial_division\n",
      "\n"
     ]
    }
   ],
   "source": [
    "for _ in range(5):\n",
    "    p = generate_random_prime()\n",
    "    q = generate_random_prime()\n",
    "    print(f'{p = }, {q = }', end=', ')\n",
    "    n = PrimalityTest(p * q)\n",
    "    print(f'{n = }')\n",
    "\n",
    "    n.performance()\n",
    "    print()"
   ]
  },
  {
   "cell_type": "markdown",
   "metadata": {},
   "source": [
    "## Case 3"
   ]
  },
  {
   "cell_type": "markdown",
   "metadata": {},
   "source": [
    "Source: [https://t5k.org/curios/index.php?start=7&stop=8](https://t5k.org/curios/index.php?start=7&stop=8)"
   ]
  },
  {
   "cell_type": "code",
   "execution_count": 204,
   "metadata": {},
   "outputs": [
    {
     "name": "stdout",
     "output_type": "stream",
     "text": [
      "n = 5858581\n",
      " - is_prime() took 0.0001897999318316579s\n",
      " - rabin_miller() took 0.0000439999857917428s\n",
      " - solovay_strassen() took 0.0000817000400274992s\n",
      "=> Performance: rabin_miller > solovay_strassen > trial_division\n",
      "n = 7576757\n",
      " - is_prime() took 0.00020110001787543297s\n",
      " - rabin_miller() took 0.00003850006032735109s\n",
      " - solovay_strassen() took 0.00008219992741942406s\n",
      "=> Performance: rabin_miller > solovay_strassen > trial_division\n",
      "n = 10234589\n",
      " - is_prime() took 0.00040120002813637257s\n",
      " - rabin_miller() took 0.00005309993866831064s\n",
      " - solovay_strassen() took 0.00012829992920160294s\n",
      "=> Performance: rabin_miller > solovay_strassen > trial_division\n",
      "n = 77767777\n",
      " - is_prime() took 0.0007340000011026859s\n",
      " - rabin_miller() took 0.00007219996768981218s\n",
      " - solovay_strassen() took 0.00008060003165155649s\n",
      "=> Performance: rabin_miller > solovay_strassen > trial_division\n",
      "n = 99999989\n",
      " - is_prime() took 0.0007313999813050032s\n",
      " - rabin_miller() took 0.0000347999157384038s\n",
      " - solovay_strassen() took 0.00009300000965595245s\n",
      "=> Performance: rabin_miller > solovay_strassen > trial_division\n"
     ]
    }
   ],
   "source": [
    "n_list = [5858581, 7576757, 10234589, 77767777, 99999989]\n",
    "for n in n_list:\n",
    "    print(f'{n = }')\n",
    "    PrimalityTest(n).performance()"
   ]
  },
  {
   "cell_type": "code",
   "execution_count": 205,
   "metadata": {},
   "outputs": [
    {
     "name": "stdout",
     "output_type": "stream",
     "text": [
      " - is_prime() took 0.033713100012391806s\n",
      " - rabin_miller() took 0.00017419992946088314s\n",
      " - solovay_strassen() took 0.00021049997303634882s\n",
      "=> Performance: rabin_miller > solovay_strassen > trial_division\n"
     ]
    }
   ],
   "source": [
    "PrimalityTest(99999999977).performance()"
   ]
  },
  {
   "cell_type": "code",
   "execution_count": 206,
   "metadata": {},
   "outputs": [
    {
     "name": "stdout",
     "output_type": "stream",
     "text": [
      " - is_prime() took 3.2682928000576794s\n",
      " - rabin_miller() took 0.00013529998250305653s\n",
      " - solovay_strassen() took 0.0003160999622195959s\n",
      "=> Performance: rabin_miller > solovay_strassen > trial_division\n"
     ]
    }
   ],
   "source": [
    "PrimalityTest(1000000000100011).performance()"
   ]
  }
 ],
 "metadata": {
  "kernelspec": {
   "display_name": "Python 3",
   "language": "python",
   "name": "python3"
  },
  "language_info": {
   "codemirror_mode": {
    "name": "ipython",
    "version": 3
   },
   "file_extension": ".py",
   "mimetype": "text/x-python",
   "name": "python",
   "nbconvert_exporter": "python",
   "pygments_lexer": "ipython3",
   "version": "3.10.6"
  }
 },
 "nbformat": 4,
 "nbformat_minor": 2
}
