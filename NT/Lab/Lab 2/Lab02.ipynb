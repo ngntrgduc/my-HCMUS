{
 "cells": [
  {
   "cell_type": "markdown",
   "metadata": {},
   "source": [
    "1. Viết chương trình Python theo các yêu cầu sau\n",
    "- Nhập một số nguyên và cơ số sau đó xuất ra số theo hệ cơ số tương ứng. (Ví dụ nhập 8 và 2 xuất ra 1000 theo hệ cơ số 2)"
   ]
  },
  {
   "cell_type": "code",
   "execution_count": 1,
   "metadata": {},
   "outputs": [],
   "source": [
    "def convert(n: int, base: int) -> str: \n",
    "    \"\"\"Convert number to base from 2 to 16\"\"\"\n",
    "    assert n >= 0, 'n must be non-negative'\n",
    "    assert 2<= base <= 16, 'invalid base, must satisfy: 2 <= base <= 16'\n",
    "    representation = ''\n",
    "    lookup = '0123456789ABCDEF'\n",
    "    while n:\n",
    "        remainder = int(n % base)\n",
    "        representation += lookup[remainder]\n",
    "        n //= base\n",
    "    return representation[::-1]"
   ]
  },
  {
   "cell_type": "code",
   "execution_count": 8,
   "metadata": {},
   "outputs": [
    {
     "name": "stdout",
     "output_type": "stream",
     "text": [
      "(8)_2 = 1000\n",
      "(10)_10 = 10\n",
      "(123)_14 = 8B\n",
      "(256)_16 = 100\n",
      "(16777215)_16 = FFFFFF\n"
     ]
    }
   ],
   "source": [
    "for _ in range(5):\n",
    "    number, base = int(input('Enter number: ')), int(input('Enter base: '))\n",
    "    print(f\"({number})_{base} = {convert(number, base)}\")"
   ]
  },
  {
   "cell_type": "markdown",
   "metadata": {},
   "source": [
    "- Cài đặt thuật toán Euclid."
   ]
  },
  {
   "cell_type": "code",
   "execution_count": 18,
   "metadata": {},
   "outputs": [],
   "source": [
    "def gcd(a, b):\n",
    "    \"\"\"Euclidean algorithm to find greatest common divisor of a and b\"\"\"\n",
    "    if b > a:\n",
    "        a, b = b, a\n",
    "    while b > 0:\n",
    "        remainder = a % b\n",
    "        a = b\n",
    "        b = remainder \n",
    "    return a"
   ]
  },
  {
   "cell_type": "code",
   "execution_count": 17,
   "metadata": {},
   "outputs": [
    {
     "name": "stdout",
     "output_type": "stream",
     "text": [
      "gcd(2, 2) = 2\n",
      "gcd(22, 2) = 2\n",
      "gcd(252, 198) = 18\n",
      "gcd(34, 55) = 1\n",
      "gcd(987654321, 123456789) = 9\n"
     ]
    }
   ],
   "source": [
    "for _ in range(5):\n",
    "    a, b = int(input('Enter a: ')), int(input('Enter b: '))\n",
    "    print(f\"gcd({a}, {b}) = {gcd(a, b)}\")"
   ]
  },
  {
   "cell_type": "markdown",
   "metadata": {},
   "source": [
    "Euclidean algorithm for list of numbers:"
   ]
  },
  {
   "cell_type": "code",
   "execution_count": 19,
   "metadata": {},
   "outputs": [
    {
     "name": "stdout",
     "output_type": "stream",
     "text": [
      "gcds([12, 18, 6]) = 6\n",
      "gcds([10, 25, 5]) = 5\n",
      "gcds([15, 21, 35]) = 1\n"
     ]
    }
   ],
   "source": [
    "from functools import reduce\n",
    "\n",
    "def gcds(list):\n",
    "    \"\"\"Euclidean algorithm to find greatest common divisor of list of number\"\"\"\n",
    "    return reduce(gcd, list) \n",
    "\n",
    "print(f'{gcds([12, 18, 6]) = }')\n",
    "print(f'{gcds([10, 25, 5]) = }')\n",
    "print(f'{gcds([15, 21, 35]) = }')"
   ]
  },
  {
   "cell_type": "markdown",
   "metadata": {},
   "source": [
    "2. Viết chương trình tính toán công trừ nhân hai số nhập vào. Lưu ý phải chuyển qua nhị phân số nhập. Tính toán trên nhị phân rồi convert về kết quả ở hệ 10."
   ]
  },
  {
   "cell_type": "code",
   "execution_count": 20,
   "metadata": {},
   "outputs": [],
   "source": [
    "def bin_to_dec(n: int):\n",
    "    \"\"\"Convert binary number to decimal base\"\"\"\n",
    "    coefs = [2**i for i in range(len(str(n)))][::-1]\n",
    "    return sum([coef * int(number) \n",
    "                for coef, number in zip(coefs, str(n))])"
   ]
  },
  {
   "cell_type": "code",
   "execution_count": 21,
   "metadata": {},
   "outputs": [
    {
     "name": "stdout",
     "output_type": "stream",
     "text": [
      "bin_to_dec(1000) = 8\n"
     ]
    }
   ],
   "source": [
    "print(f'{bin_to_dec(1000) = }')"
   ]
  },
  {
   "cell_type": "code",
   "execution_count": 22,
   "metadata": {},
   "outputs": [
    {
     "name": "stdout",
     "output_type": "stream",
     "text": [
      "convert_to_dec(123, 10) = 123\n",
      "convert_to_dec(1000, 2) = 8\n",
      "convert_to_dec(236, 7) = 125\n",
      "convert_to_dec('A35B0F', 16) = 10705679\n",
      "convert_to_dec('2FB3', 16) = 12211\n"
     ]
    }
   ],
   "source": [
    "def convert_to_dec(n: int | str, base: int):\n",
    "    \"\"\"Convert n to decimal base\"\"\"\n",
    "    coefs = [base**i for i in range(len(str(n)))][::-1]\n",
    "    if base == 16 and type(n) is str:\n",
    "        lookup = {char: i for i, char in enumerate('0123456789ABCDEF')}\n",
    "        return sum([coef * lookup[number] \n",
    "                    for coef, number in zip(coefs, n)])\n",
    "\n",
    "    return sum([coef * int(number) \n",
    "                for coef, number in zip(coefs, str(n))])\n",
    "\n",
    "print(f'{convert_to_dec(123, 10) = }')\n",
    "print(f'{convert_to_dec(1000, 2) = }')\n",
    "print(f'{convert_to_dec(236, 7) = }')\n",
    "print(f\"{convert_to_dec('A35B0F', 16) = }\")\n",
    "print(f\"{convert_to_dec('2FB3', 16) = }\")"
   ]
  },
  {
   "cell_type": "code",
   "execution_count": 23,
   "metadata": {},
   "outputs": [],
   "source": [
    "def handle_leading_zeros(a: str, b: str):\n",
    "\t\"\"\"Handle leading zeros for a and b\"\"\"\n",
    "\thandled_a = '0' * (max(len(a), len(b)) - len(a)) + a\n",
    "\thandled_b = '0' * (max(len(a), len(b)) - len(b)) + b\n",
    "\treturn handled_a, handled_b"
   ]
  },
  {
   "cell_type": "code",
   "execution_count": 24,
   "metadata": {},
   "outputs": [],
   "source": [
    "def add_binary(a: str, b: str) -> str:\n",
    "\t\"\"\"Add two binary numbers a and b\"\"\"\n",
    "\ta, b = handle_leading_zeros(a, b)\n",
    "\ta, b = a[::-1], b[::-1] # Reverse bits in binary representation\n",
    "\tcarry = 0\n",
    "\tresult = ''\n",
    "\tfor i in range(max(len(a), len(b))):\n",
    "\t\tbit = int(a[i]) + int(b[i]) + carry\n",
    "\t\tresult += str(bit % 2)\n",
    "\t\tcarry = bit // 2\n",
    "\tif carry:\n",
    "\t\tresult += str(carry)\n",
    "\treturn result[::-1]"
   ]
  },
  {
   "cell_type": "code",
   "execution_count": 36,
   "metadata": {},
   "outputs": [
    {
     "name": "stdout",
     "output_type": "stream",
     "text": [
      "a = 12\n",
      "b = 5\n",
      "(12)_2 = 1100\n",
      "(5)_2 = 101\n",
      "12 + 5 = 10001 in binary base\n",
      "12 + 5 = 17 in decimal base\n",
      "convert_to_dec(10001, 2) = 17\n"
     ]
    }
   ],
   "source": [
    "a = int(input('Input a: '))\n",
    "b = int(input('Input b: '))\n",
    "print(f'{a = }\\n{b = }')\n",
    "\n",
    "a_base2 = convert(a, 2)\n",
    "b_base2 = convert(b, 2)\n",
    "print(f'({a})_2 = {a_base2}')\n",
    "print(f'({b})_2 = {b_base2}')\n",
    "result_base2 = add_binary(a_base2, b_base2)\n",
    "print(f'{a} + {b} = {result_base2} in binary base')\n",
    "print(f'{a} + {b} = {bin_to_dec(int(result_base2))} in decimal base')\n",
    "print(f'convert_to_dec({result_base2}, 2) = {convert_to_dec(int(result_base2), 2)}')"
   ]
  },
  {
   "cell_type": "code",
   "execution_count": 26,
   "metadata": {},
   "outputs": [],
   "source": [
    "def subtract_binary(a: str, b: str) -> str:\n",
    "\t\"\"\"Subtract two binary numbers a and b, suppose a >= b\"\"\"\n",
    "\ta, b = handle_leading_zeros(a, b)\n",
    "\ta, b = a[::-1], b[::-1] # Reverse bits in binary representation\n",
    "\tcarry = 0\n",
    "\tresult = ''\n",
    "\tfor i in range(max(len(a), len(b))):\n",
    "\t\tbit = int(a[i]) - int(b[i]) + carry\n",
    "\t\tresult += str(bit % 2)\n",
    "\t\tcarry = bit // 2\n",
    "\tif carry:\n",
    "\t\tresult += str(carry)\n",
    "\treturn result[::-1]"
   ]
  },
  {
   "cell_type": "code",
   "execution_count": 37,
   "metadata": {},
   "outputs": [
    {
     "name": "stdout",
     "output_type": "stream",
     "text": [
      "(12)_2 = 1100\n",
      "(5)_2 = 101\n",
      "12 - 5 = 0111 in binary base\n",
      "12 - 5 = 7 in decimal base\n",
      "convert_to_dec(0111, 2) = 7\n"
     ]
    }
   ],
   "source": [
    "print(f'({a})_2 = {a_base2}')\n",
    "print(f'({b})_2 = {b_base2}')\n",
    "result_base2 = subtract_binary(a_base2, b_base2)\n",
    "print(f'{a} - {b} = {result_base2} in binary base')\n",
    "print(f'{a} - {b} = {bin_to_dec(int(result_base2))} in decimal base')\n",
    "print(f'convert_to_dec({result_base2}, 2) = {convert_to_dec(int(result_base2), 2)}')"
   ]
  },
  {
   "cell_type": "code",
   "execution_count": 28,
   "metadata": {},
   "outputs": [],
   "source": [
    "from functools import reduce # For summing binary results\n",
    "\n",
    "def multiply_binary(a: str, b: str) -> str:\n",
    "\t\"\"\"Multiple two binary numbers a and b\"\"\"\n",
    "\ta, b = handle_leading_zeros(a, b)\n",
    "\tb = b[::-1] # Reverse bits in binary representation\n",
    "\tbinary_array = []\n",
    "\tfor i, b_i in enumerate(b):\n",
    "\t\tbinary_array.append(str(int(a) * int(b_i)) + '0'*i)\n",
    "\n",
    "\treturn reduce(add_binary, binary_array)"
   ]
  },
  {
   "cell_type": "code",
   "execution_count": 38,
   "metadata": {},
   "outputs": [
    {
     "name": "stdout",
     "output_type": "stream",
     "text": [
      "(12)_2 = 1100\n",
      "(5)_2 = 101\n",
      "12 * 5 = 111100 in binary base\n",
      "12 * 5 = 60 in decimal base\n",
      "convert_to_dec(111100, 2) = 60\n"
     ]
    }
   ],
   "source": [
    "print(f'({a})_2 = {a_base2}')\n",
    "print(f'({b})_2 = {b_base2}')\n",
    "result_base2 = multiply_binary(a_base2, b_base2)\n",
    "print(f'{a} * {b} = {result_base2} in binary base')\n",
    "print(f'{a} * {b} = {bin_to_dec(int(result_base2))} in decimal base')\n",
    "print(f'convert_to_dec({result_base2}, 2) = {convert_to_dec(int(result_base2), 2)}')"
   ]
  },
  {
   "cell_type": "code",
   "execution_count": 41,
   "metadata": {},
   "outputs": [
    {
     "name": "stdout",
     "output_type": "stream",
     "text": [
      "a = 4, (4)_2 = 100\n",
      "b = 4, (4)_2 = 100\n",
      "  4 + 4 = 1000 in binary base, 4 + 4 = 8 in decimal base\n",
      "  4 - 4 = 000 in binary base, 4 - 4 = 0 in decimal base\n",
      "  4 * 4 = 10000 in binary base, 4 * 4 = 16 in decimal base\n",
      "a = 12, (12)_2 = 1100\n",
      "b = 5, (5)_2 = 101\n",
      "  12 + 5 = 10001 in binary base, 12 + 5 = 17 in decimal base\n",
      "  12 - 5 = 0111 in binary base, 12 - 5 = 7 in decimal base\n",
      "  12 * 5 = 111100 in binary base, 12 * 5 = 60 in decimal base\n",
      "a = 2, (2)_2 = 10\n",
      "b = 2, (2)_2 = 10\n",
      "  2 + 2 = 100 in binary base, 2 + 2 = 4 in decimal base\n",
      "  2 - 2 = 00 in binary base, 2 - 2 = 0 in decimal base\n",
      "  2 * 2 = 100 in binary base, 2 * 2 = 4 in decimal base\n",
      "a = 13, (13)_2 = 1101\n",
      "b = 3, (3)_2 = 11\n",
      "  13 + 3 = 10000 in binary base, 13 + 3 = 16 in decimal base\n",
      "  13 - 3 = 1010 in binary base, 13 - 3 = 10 in decimal base\n",
      "  13 * 3 = 100111 in binary base, 13 * 3 = 39 in decimal base\n",
      "a = 12, (12)_2 = 1100\n",
      "b = 11, (11)_2 = 1011\n",
      "  12 + 11 = 10111 in binary base, 12 + 11 = 23 in decimal base\n",
      "  12 - 11 = 0001 in binary base, 12 - 11 = 1 in decimal base\n",
      "  12 * 11 = 10000100 in binary base, 12 * 11 = 132 in decimal base\n"
     ]
    }
   ],
   "source": [
    "for _ in range(5):\n",
    "    a = int(input('Input a: '))\n",
    "    b = int(input('Input b: '))\n",
    "    a_base2 = convert(a, 2)\n",
    "    b_base2 = convert(b, 2)\n",
    "\n",
    "    print(f'{a = }, ({a})_2 = {a_base2}')\n",
    "    print(f'{b = }, ({b})_2 = {b_base2}')\n",
    "\n",
    "    # Addition\n",
    "    result_base2 = add_binary(a_base2, b_base2)\n",
    "    print(f'  {a} + {b} = {result_base2} in binary base, {a} + {b} = {bin_to_dec(int(result_base2))} in decimal base')\n",
    "\n",
    "    # Subtraction\n",
    "    result_base2 = subtract_binary(a_base2, b_base2)\n",
    "    print(f'  {a} - {b} = {result_base2} in binary base, {a} - {b} = {bin_to_dec(int(result_base2))} in decimal base')\n",
    "\n",
    "    # Multiplication\n",
    "    result_base2 = multiply_binary(a_base2, b_base2)\n",
    "    print(f'  {a} * {b} = {result_base2} in binary base, {a} * {b} = {bin_to_dec(int(result_base2))} in decimal base')"
   ]
  }
 ],
 "metadata": {
  "kernelspec": {
   "display_name": "Python 3",
   "language": "python",
   "name": "python3"
  },
  "language_info": {
   "codemirror_mode": {
    "name": "ipython",
    "version": 3
   },
   "file_extension": ".py",
   "mimetype": "text/x-python",
   "name": "python",
   "nbconvert_exporter": "python",
   "pygments_lexer": "ipython3",
   "version": "3.10.6"
  }
 },
 "nbformat": 4,
 "nbformat_minor": 2
}
