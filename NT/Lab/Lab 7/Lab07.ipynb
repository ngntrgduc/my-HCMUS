{
 "cells": [
  {
   "cell_type": "markdown",
   "metadata": {},
   "source": [
    "Mục tiêu: Xây dựng một lớp Python để thực hiện mã hóa và giải mã cho ba loại mật mã: Caesar cipher, Affine cipher, và Exponentiation cipher.\n",
    "\n",
    "Yêu cầu:\n",
    "\n",
    "1.\tThuộc tính: Không cần.\n",
    "\n",
    "2.\tPhương thức mã hóa và giải mã:\n",
    "\n",
    "    a.\tCaesar Cipher:\n",
    "\n",
    "    -\tcaesar_encrypt(plaintext, shift): xem section 8.1\n",
    "\n",
    "    -\tcaesar_decrypt(ciphertext, shift): xem section 8.1\n",
    "\n",
    "    b.\tAffine Cipher:\n",
    "\n",
    "    -\taffine_encrypt(plaintext, a, b): xem section 8.1\n",
    "\n",
    "    -\taffine_decrypt(ciphertext, a, b): xem section 8.1\n",
    "\n",
    "    c.\tExponentiation Cipher:\n",
    "\n",
    "    -\texponentiation_encrypt(plaintext, e, n): xem section 8.3\n",
    "\n",
    "    -\texponentiation_decrypt(ciphertext, d, n): xem section 8.3\n",
    "\n",
    "3.\tChạy test cases:\n",
    "\n",
    "-\tCase 1: Sử dụng đoạn văn bản plaintext = \" LIFE IS A DREAM\" với shift = 3 cho Caesar cipher.\n",
    "\n",
    "-\tCase 2: Sử dụng đoạn văn bản plaintext = \" LIFE IS A DREAM\" với a = 5 và b = 8 cho Affine cipher.\n",
    "\n",
    "-\tCase 3: Sử dụng đoạn văn bản plaintext = \" LIFE IS A DREAM\" với e = 43, d=viết hàm tính, và n = 2633 cho Exponentiation cipher."
   ]
  },
  {
   "cell_type": "code",
   "execution_count": 179,
   "metadata": {},
   "outputs": [
    {
     "data": {
      "text/plain": [
       "{'A': 'ABCDEFGHIJKLMNOPQRSTUVWXYZ',\n",
       " 'B': 'BCDEFGHIJKLMNOPQRSTUVWXYZA',\n",
       " 'C': 'CDEFGHIJKLMNOPQRSTUVWXYZAB',\n",
       " 'D': 'DEFGHIJKLMNOPQRSTUVWXYZABC',\n",
       " 'E': 'EFGHIJKLMNOPQRSTUVWXYZABCD',\n",
       " 'F': 'FGHIJKLMNOPQRSTUVWXYZABCDE',\n",
       " 'G': 'GHIJKLMNOPQRSTUVWXYZABCDEF',\n",
       " 'H': 'HIJKLMNOPQRSTUVWXYZABCDEFG',\n",
       " 'I': 'IJKLMNOPQRSTUVWXYZABCDEFGH',\n",
       " 'J': 'JKLMNOPQRSTUVWXYZABCDEFGHI',\n",
       " 'K': 'KLMNOPQRSTUVWXYZABCDEFGHIJ',\n",
       " 'L': 'LMNOPQRSTUVWXYZABCDEFGHIJK',\n",
       " 'M': 'MNOPQRSTUVWXYZABCDEFGHIJKL',\n",
       " 'N': 'NOPQRSTUVWXYZABCDEFGHIJKLM',\n",
       " 'O': 'OPQRSTUVWXYZABCDEFGHIJKLMN',\n",
       " 'P': 'PQRSTUVWXYZABCDEFGHIJKLMNO',\n",
       " 'Q': 'QRSTUVWXYZABCDEFGHIJKLMNOP',\n",
       " 'R': 'RSTUVWXYZABCDEFGHIJKLMNOPQ',\n",
       " 'S': 'STUVWXYZABCDEFGHIJKLMNOPQR',\n",
       " 'T': 'TUVWXYZABCDEFGHIJKLMNOPQRS',\n",
       " 'U': 'UVWXYZABCDEFGHIJKLMNOPQRST',\n",
       " 'V': 'VWXYZABCDEFGHIJKLMNOPQRSTU',\n",
       " 'W': 'WXYZABCDEFGHIJKLMNOPQRSTUV',\n",
       " 'X': 'XYZABCDEFGHIJKLMNOPQRSTUVW',\n",
       " 'Y': 'YZABCDEFGHIJKLMNOPQRSTUVWX',\n",
       " 'Z': 'ZABCDEFGHIJKLMNOPQRSTUVWXY'}"
      ]
     },
     "execution_count": 179,
     "metadata": {},
     "output_type": "execute_result"
    }
   ],
   "source": [
    "import math\n",
    "from itertools import cycle, pairwise\n",
    "from collections import Counter # Use for counting frequency\n",
    "\n",
    "alphabet = 'ABCDEFGHIJKLMNOPQRSTUVWXYZ'\n",
    "tabula_recta = {char: alphabet[shift:] + alphabet[:shift] \n",
    "                for shift, char in enumerate(alphabet)}\n",
    "tabula_recta"
   ]
  },
  {
   "cell_type": "code",
   "execution_count": 180,
   "metadata": {},
   "outputs": [],
   "source": [
    "# Reimplement the batched() function from itertools in Python\n",
    "from itertools import islice\n",
    "def batched(iterable, n):\n",
    "    \"\"\"Yield successive n-sized chunks from the iterable.\"\"\"\n",
    "    it = iter(iterable)\n",
    "    while True:\n",
    "        batch = list(islice(it, n))\n",
    "        if not batch:\n",
    "            break\n",
    "        yield batch"
   ]
  },
  {
   "cell_type": "code",
   "execution_count": 181,
   "metadata": {},
   "outputs": [],
   "source": [
    "class Cryptography:\n",
    "    # Caesar Cipher\n",
    "    @staticmethod\n",
    "    def create_caesar_dict(shift):\n",
    "        shift = shift % 26\n",
    "        shifted_alphabet = alphabet[shift:] + alphabet[:shift] # right rotate\n",
    "        # shifted_alphabet = alphabet[-shift:] + alphabet[:-shift] # left rotate\n",
    "        return {char: shifted \n",
    "                for char, shifted in zip(alphabet, shifted_alphabet)}\n",
    "\n",
    "    @staticmethod\n",
    "    def caesar_encrypt(plaintext, shift):\n",
    "        cipher_dict = Cryptography.create_caesar_dict(shift)\n",
    "        encrypted = ''.join(cipher_dict.get(char, char) for char in plaintext)\n",
    "        return encrypted\n",
    "    \n",
    "    @staticmethod\n",
    "    def caesar_decrypt(ciphertext, shift):\n",
    "        decipher_dict = Cryptography.create_caesar_dict(-shift)\n",
    "        decrypted = ''.join(decipher_dict.get(char, char) for char in ciphertext)\n",
    "        return decrypted\n",
    "    \n",
    "    @staticmethod\n",
    "    def caesar_breaking_brute_force(ciphertext):\n",
    "        return {shift: Cryptography.caesar_decrypt(ciphertext, shift) \n",
    "                for shift in range(1, 27)}\n",
    "    \n",
    "    @staticmethod\n",
    "    def caesar_breaking_frequency_analysis(ciphertext):\n",
    "        # Common English letter frequency\n",
    "        most_frequency = 'ETAOINSHRDLCUMWFGYPBVKJXQZ'[:8]\n",
    "        # most_frequency = 'ETAOIN'\n",
    "        chars_frequency = Counter(ciphertext.replace(' ', ''))\n",
    "        most_common_char = chars_frequency.most_common(1)[0][0]\n",
    "        print(f'Most common charater in ciphertext: {most_common_char}')\n",
    "        result = {}\n",
    "        for char in most_frequency:\n",
    "            shift = alphabet.index(most_common_char) - alphabet.index(char)\n",
    "            result[shift % 26] = Cryptography.caesar_decrypt(ciphertext, shift)\n",
    "        return result\n",
    "\n",
    "    # Affine Cipher\n",
    "    @staticmethod\n",
    "    def affine_encrypt(plaintext, a, b):\n",
    "        transformed_index = [(a*c + b) % 26 for c in list(range(26))]\n",
    "        transformed_alphabet = [alphabet[index] for index in transformed_index]\n",
    "        cipher_dict = {char: transformed \n",
    "                       for char, transformed in zip(alphabet, transformed_alphabet)}\n",
    "        encrypted = ''.join(cipher_dict.get(char, char) for char in plaintext)\n",
    "        return encrypted\n",
    "\n",
    "    @staticmethod\n",
    "    def affine_decrypt(ciphertext, a, b):\n",
    "        a_inv = pow(a, -1, 26)  # Modular multiplicative inverse of a mod 26\n",
    "        transformed_index = [a_inv * (c-b) % 26 for c in list(range(26))]\n",
    "        transformed_alphabet = [alphabet[i] for i in transformed_index]\n",
    "        cipher_dict = {char: transformed \n",
    "                       for char, transformed in zip(alphabet, transformed_alphabet)}\n",
    "        decrypted = ''.join(cipher_dict.get(char, char) for char in ciphertext)\n",
    "        return decrypted\n",
    "\n",
    "    @staticmethod\n",
    "    def affine_breaking_brute_force(ciphertext):\n",
    "        possible_plaintexts = {}\n",
    "        # Relative primes of 26\n",
    "        relative_primes = [a for a in range(26) if math.gcd(a, 26) == 1]\n",
    "        # 312 possible keys\n",
    "        for a in relative_primes:\n",
    "            for b in range(26):\n",
    "                decrypted = Cryptography.affine_decrypt(ciphertext, a, b)\n",
    "                possible_plaintexts[f'{a = }, {b = }'] = decrypted\n",
    "        return possible_plaintexts        \n",
    "\n",
    "    @staticmethod\n",
    "    def affine_breaking_frequency_analysis(ciphertext):\n",
    "        result = {}\n",
    "        most_frequency = 'ETAOINSHRDLCUMWFGYPBVKJXQZ'[:8]\n",
    "        # most_frequency = 'ETAOIN'\n",
    "        chars_frequency = Counter(ciphertext.replace(' ', ''))\n",
    "        most_common_char = [char for char, _ in chars_frequency.most_common()]\n",
    "        for pair in pairwise(most_common_char):\n",
    "            b1, b2 = [alphabet.index(char) for char in pair]\n",
    "            for pair_frequency in pairwise(most_frequency):\n",
    "                a1, a2 = [alphabet.index(char) for char in pair_frequency]\n",
    "                try:\n",
    "                    a = (a2 - a1) % 26\n",
    "                    b = (b2 - b1) % 26\n",
    "                    a_inv = pow(a, -1, 26)\n",
    "                    a = pow(b * a_inv, -1, 26)\n",
    "                    b = (b1 - a1*a) % 26\n",
    "                    result[f'{a = }, {b = }'] = Cryptography.affine_decrypt(ciphertext, a, b)\n",
    "                except:\n",
    "                    pass\n",
    "\n",
    "        return result\n",
    "\n",
    "    # Exponentiation Cipher\n",
    "    @staticmethod\n",
    "    def exponentiation_encrypt(plaintext, e, p):\n",
    "        m = 1\n",
    "        while not (int(str(25)*m) < p and p < int(str(25)*(m+1))):\n",
    "            m += 1 \n",
    "\n",
    "        encrypted = []\n",
    "        plaintext = plaintext.replace(' ', '')\n",
    "\n",
    "        for batch in batched(plaintext, m):\n",
    "            P = ''.join(f'{alphabet.index(char):02}' for char in batch)\n",
    "\n",
    "            while len(P) < 2 * m:\n",
    "                P += '23'\n",
    "\n",
    "            c = pow(int(P), e, p)\n",
    "            encrypted.append(str(c).rjust(2*m, '0'))\n",
    "\n",
    "        return encrypted\n",
    "\n",
    "    @staticmethod\n",
    "    def exponentiation_decrypt(ciphertext, d, p):\n",
    "        decrypted = ''\n",
    "        for char in ciphertext:\n",
    "            P = str(pow(int(char), d, p)).rjust(len(char), '0')\n",
    "            while len(P) > 1:\n",
    "                decrypted += alphabet[int(P[:2])]\n",
    "                P = P[2:]\n",
    "\n",
    "        return decrypted\n",
    "    \n",
    "    # Vigenere Cipher\n",
    "    @staticmethod\n",
    "    def vigenere_encrypt(plaintext, key):\n",
    "        keys = cycle(key)\n",
    "        encrypted = ''\n",
    "        for char in plaintext:\n",
    "            current_key = next(keys)\n",
    "            if char not in alphabet:\n",
    "                encrypted += char\n",
    "                continue\n",
    "            encrypted += tabula_recta[current_key][alphabet.index(char)]\n",
    "        return encrypted\n",
    "    \n",
    "    @staticmethod\n",
    "    def vigenere_decrypt(ciphertext, key):\n",
    "        keys = cycle(key)\n",
    "        decrypted = ''\n",
    "        for char in ciphertext:\n",
    "            current_key = next(keys)\n",
    "            if char not in alphabet:\n",
    "                encrypted += char\n",
    "                continue\n",
    "            decrypted += alphabet[tabula_recta[current_key].index(char)]\n",
    "        return decrypted\n",
    "\n",
    "    # Autokey cipher\n",
    "    @staticmethod\n",
    "    def autokey_encrypt(plaintext, seed):\n",
    "        keystream = [alphabet.index(seed)]\n",
    "        keystream.extend([alphabet.index(p) for p in plaintext])\n",
    "        encrypted = ''\n",
    "        for k, p in zip(keystream, plaintext):\n",
    "            encrypted += alphabet[(alphabet.index(p) + k) % 26]\n",
    "        return encrypted\n",
    "    \n",
    "    @staticmethod    \n",
    "    def autokey_decrypt(ciphertext, seed):\n",
    "        s = alphabet.index(seed)\n",
    "        decrypted = ''\n",
    "        for c in ciphertext:\n",
    "            s = (alphabet.index(c) - s) % 26\n",
    "            decrypted += alphabet[s]\n",
    "\n",
    "        return decrypted"
   ]
  },
  {
   "cell_type": "markdown",
   "metadata": {},
   "source": [
    "## Case 1"
   ]
  },
  {
   "cell_type": "code",
   "execution_count": 182,
   "metadata": {},
   "outputs": [
    {
     "name": "stdout",
     "output_type": "stream",
     "text": [
      "plaintext = 'LIFE IS A DREAM'\n",
      "encrypted = 'OLIH LV D GUHDP'\n",
      "decrypted = 'LIFE IS A DREAM'\n"
     ]
    }
   ],
   "source": [
    "# plaintext = 'this message is top secret'\n",
    "plaintext = 'LIFE IS A DREAM'\n",
    "shift = 3\n",
    "print(f'{plaintext = }')\n",
    "encrypted = Cryptography.caesar_encrypt(plaintext, shift)\n",
    "print(f'{encrypted = }')\n",
    "decrypted = Cryptography.caesar_decrypt(encrypted, shift)\n",
    "print(f'{decrypted = }')"
   ]
  },
  {
   "cell_type": "markdown",
   "metadata": {},
   "source": [
    "### Brute force"
   ]
  },
  {
   "cell_type": "code",
   "execution_count": 183,
   "metadata": {},
   "outputs": [
    {
     "data": {
      "text/plain": [
       "{1: 'NKHG KU C FTGCO',\n",
       " 2: 'MJGF JT B ESFBN',\n",
       " 3: 'LIFE IS A DREAM',\n",
       " 4: 'KHED HR Z CQDZL',\n",
       " 5: 'JGDC GQ Y BPCYK',\n",
       " 6: 'IFCB FP X AOBXJ',\n",
       " 7: 'HEBA EO W ZNAWI',\n",
       " 8: 'GDAZ DN V YMZVH',\n",
       " 9: 'FCZY CM U XLYUG',\n",
       " 10: 'EBYX BL T WKXTF',\n",
       " 11: 'DAXW AK S VJWSE',\n",
       " 12: 'CZWV ZJ R UIVRD',\n",
       " 13: 'BYVU YI Q THUQC',\n",
       " 14: 'AXUT XH P SGTPB',\n",
       " 15: 'ZWTS WG O RFSOA',\n",
       " 16: 'YVSR VF N QERNZ',\n",
       " 17: 'XURQ UE M PDQMY',\n",
       " 18: 'WTQP TD L OCPLX',\n",
       " 19: 'VSPO SC K NBOKW',\n",
       " 20: 'URON RB J MANJV',\n",
       " 21: 'TQNM QA I LZMIU',\n",
       " 22: 'SPML PZ H KYLHT',\n",
       " 23: 'ROLK OY G JXKGS',\n",
       " 24: 'QNKJ NX F IWJFR',\n",
       " 25: 'PMJI MW E HVIEQ',\n",
       " 26: 'OLIH LV D GUHDP'}"
      ]
     },
     "execution_count": 183,
     "metadata": {},
     "output_type": "execute_result"
    }
   ],
   "source": [
    "Cryptography.caesar_breaking_brute_force(encrypted)"
   ]
  },
  {
   "cell_type": "markdown",
   "metadata": {},
   "source": [
    "### Frequency analysis"
   ]
  },
  {
   "cell_type": "code",
   "execution_count": 184,
   "metadata": {},
   "outputs": [
    {
     "name": "stdout",
     "output_type": "stream",
     "text": [
      "Most common charater in ciphertext: L\n"
     ]
    },
    {
     "data": {
      "text/plain": [
       "{7: 'HEBA EO W ZNAWI',\n",
       " 18: 'WTQP TD L OCPLX',\n",
       " 11: 'DAXW AK S VJWSE',\n",
       " 23: 'ROLK OY G JXKGS',\n",
       " 3: 'LIFE IS A DREAM',\n",
       " 24: 'QNKJ NX F IWJFR',\n",
       " 19: 'VSPO SC K NBOKW',\n",
       " 4: 'KHED HR Z CQDZL'}"
      ]
     },
     "execution_count": 184,
     "metadata": {},
     "output_type": "execute_result"
    }
   ],
   "source": [
    "Cryptography.caesar_breaking_frequency_analysis(encrypted)"
   ]
  },
  {
   "cell_type": "markdown",
   "metadata": {},
   "source": [
    "## Case 2"
   ]
  },
  {
   "cell_type": "code",
   "execution_count": 185,
   "metadata": {},
   "outputs": [
    {
     "name": "stdout",
     "output_type": "stream",
     "text": [
      "plaintext = 'LIFE IS A DREAM'\n",
      "encrypted = 'LWHC WU I XPCIQ'\n",
      "decrypted = 'LIFE IS A DREAM'\n"
     ]
    }
   ],
   "source": [
    "# plaintext = 'PLEASE SEND MONEY'\n",
    "# a, b = 7, 10\n",
    "plaintext = 'LIFE IS A DREAM'\n",
    "a, b = 5, 8\n",
    "print(f'{plaintext = }')\n",
    "encrypted = Cryptography.affine_encrypt(plaintext, a, b)\n",
    "print(f'{encrypted = }')\n",
    "decrypted = Cryptography.affine_decrypt(encrypted, a, b)\n",
    "print(f'{decrypted = }')"
   ]
  },
  {
   "cell_type": "markdown",
   "metadata": {},
   "source": [
    "### Brute force"
   ]
  },
  {
   "cell_type": "code",
   "execution_count": 186,
   "metadata": {},
   "outputs": [],
   "source": [
    "# Cryptography.affine_breaking_brute_force(encrypted)"
   ]
  },
  {
   "cell_type": "markdown",
   "metadata": {},
   "source": [
    "### Frequency analysis"
   ]
  },
  {
   "cell_type": "code",
   "execution_count": 187,
   "metadata": {},
   "outputs": [
    {
     "data": {
      "text/plain": [
       "{'a = 5, b = 14': 'PMJI MW E HVIEQ',\n",
       " 'a = 11, b = 7': 'YZAJ ZN T SWJTP',\n",
       " 'a = 19, b = 12': 'PGXU GK I RHUIS',\n",
       " 'a = 19, b = 21': 'ULCZ LP N WMZNX',\n",
       " 'a = 5, b = 22': 'DAXW AK S VJWSE',\n",
       " 'a = 5, b = 0': 'XURQ UE M PDQMY',\n",
       " 'a = 11, b = 19': 'EFGP FT Z YCPZV',\n",
       " 'a = 19, b = 24': 'NEVS EI G PFSGQ',\n",
       " 'a = 19, b = 7': 'SJAX JN L UKXLV',\n",
       " 'a = 5, b = 8': 'LIFE IS A DREAM',\n",
       " 'a = 15, b = 7': 'CBAR BN H IERHL',\n",
       " 'a = 7, b = 12': 'LUDG UQ S JTGSI',\n",
       " 'a = 5, b = 1': 'CZWV ZJ R UIVRD',\n",
       " 'a = 5, b = 2': 'HEBA EO W ZNAWI',\n",
       " 'a = 15, b = 5': 'QPOF PB V WSFVZ'}"
      ]
     },
     "execution_count": 187,
     "metadata": {},
     "output_type": "execute_result"
    }
   ],
   "source": [
    "Cryptography.affine_breaking_frequency_analysis(encrypted)"
   ]
  },
  {
   "cell_type": "markdown",
   "metadata": {},
   "source": [
    "## Case 3"
   ]
  },
  {
   "cell_type": "code",
   "execution_count": 188,
   "metadata": {},
   "outputs": [
    {
     "name": "stdout",
     "output_type": "stream",
     "text": [
      "plaintext = 'LIFE IS A DREAM'\n",
      "encrypted = ['0894', '2373', '0953', '1022', '2559', '0798']\n",
      "d = 1163\n",
      "decrypted = 'LIFEISADREAM'\n"
     ]
    }
   ],
   "source": [
    "plaintext = 'LIFE IS A DREAM'\n",
    "e = 43\n",
    "p = 2633\n",
    "print(f'{plaintext = }')\n",
    "encrypted = Cryptography.exponentiation_encrypt(plaintext, e, p)\n",
    "print(f'{encrypted = }')\n",
    "\n",
    "d = pow(e, -1, p-1)\n",
    "print(f'{d = }')\n",
    "decrypted = Cryptography.exponentiation_decrypt(encrypted, d, p)\n",
    "print(f'{decrypted = }')"
   ]
  },
  {
   "cell_type": "code",
   "execution_count": 189,
   "metadata": {},
   "outputs": [
    {
     "name": "stdout",
     "output_type": "stream",
     "text": [
      "plaintext = 'THIS IS AN EXAMPLE OF AN EXPONENTIATION CIPHER'\n",
      "encrypted = ['2199', '1745', '1745', '1206', '2437', '2425', '1729', '1619', '0935', '0960', '1072', '1541', '1701', '1553', '0735', '2064', '1351', '1704', '1841', '1459']\n",
      "d = 2269\n",
      "decrypted = 'THISISANEXAMPLEOFANEXPONENTIATIONCIPHERX'\n"
     ]
    }
   ],
   "source": [
    "# This example was taken from the textbook\n",
    "plaintext = 'THIS IS AN EXAMPLE OF AN EXPONENTIATION CIPHER'\n",
    "p = 2633\n",
    "e = 29\n",
    "\n",
    "print(f'{plaintext = }')\n",
    "encrypted = Cryptography.exponentiation_encrypt(plaintext, e, p)\n",
    "print(f'{encrypted = }')\n",
    "\n",
    "d = pow(e, -1, p-1)\n",
    "print(f'{d = }')\n",
    "decrypted = Cryptography.exponentiation_decrypt(encrypted, d, p)\n",
    "print(f'{decrypted = }')"
   ]
  },
  {
   "cell_type": "markdown",
   "metadata": {},
   "source": [
    "## Vigenère Cipher"
   ]
  },
  {
   "cell_type": "code",
   "execution_count": 190,
   "metadata": {},
   "outputs": [
    {
     "name": "stdout",
     "output_type": "stream",
     "text": [
      "plaintext = 'MILLENNIUM'\n",
      "encrypted = 'KBHZOLGEIW'\n",
      "decrypted = 'MILLENNIUM'\n"
     ]
    }
   ],
   "source": [
    "# Exampes were taken from the textbook\n",
    "plaintext = 'MILLENNIUM'\n",
    "key = 'YTWOK'\n",
    "print(f'{plaintext = }')\n",
    "encrypted = Cryptography.vigenere_encrypt(plaintext, key)\n",
    "print(f'{encrypted = }')\n",
    "decrypted = Cryptography.vigenere_decrypt(encrypted, key)\n",
    "print(f'{decrypted = }')"
   ]
  },
  {
   "cell_type": "code",
   "execution_count": 191,
   "metadata": {},
   "outputs": [
    {
     "data": {
      "text/plain": [
       "'GROUNDHOG'"
      ]
     },
     "execution_count": 191,
     "metadata": {},
     "output_type": "execute_result"
    }
   ],
   "source": [
    "Cryptography.vigenere_decrypt('FFFLBCVFX', 'ZORRO')"
   ]
  },
  {
   "cell_type": "markdown",
   "metadata": {},
   "source": [
    "## Autokey Cipher"
   ]
  },
  {
   "cell_type": "code",
   "execution_count": 192,
   "metadata": {},
   "outputs": [
    {
     "data": {
      "text/plain": [
       "'ELVDUB'"
      ]
     },
     "execution_count": 192,
     "metadata": {},
     "output_type": "execute_result"
    }
   ],
   "source": [
    "# Exampes were taken from the textbook\n",
    "plaintext = 'HERMIT'\n",
    "seed = 'X'\n",
    "Cryptography.autokey_encrypt(plaintext, seed)"
   ]
  },
  {
   "cell_type": "code",
   "execution_count": 193,
   "metadata": {},
   "outputs": [
    {
     "data": {
      "text/plain": [
       "'MANGO'"
      ]
     },
     "execution_count": 193,
     "metadata": {},
     "output_type": "execute_result"
    }
   ],
   "source": [
    "# Exampes were taken from the textbook\n",
    "ciphertext = 'RMNTU'\n",
    "seed = 'F'\n",
    "Cryptography.autokey_decrypt(ciphertext, seed)"
   ]
  }
 ],
 "metadata": {
  "kernelspec": {
   "display_name": "Python 3",
   "language": "python",
   "name": "python3"
  },
  "language_info": {
   "codemirror_mode": {
    "name": "ipython",
    "version": 3
   },
   "file_extension": ".py",
   "mimetype": "text/x-python",
   "name": "python",
   "nbconvert_exporter": "python",
   "pygments_lexer": "ipython3",
   "version": "3.10.6"
  }
 },
 "nbformat": 4,
 "nbformat_minor": 2
}
