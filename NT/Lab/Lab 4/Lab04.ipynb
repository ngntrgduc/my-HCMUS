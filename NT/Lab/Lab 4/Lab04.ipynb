{
 "cells": [
  {
   "cell_type": "code",
   "execution_count": 32,
   "metadata": {},
   "outputs": [],
   "source": [
    "import math\n",
    "import sympy\n",
    "from sympy import primefactors, factorint"
   ]
  },
  {
   "cell_type": "markdown",
   "metadata": {},
   "source": [
    "### Class definition"
   ]
  },
  {
   "cell_type": "code",
   "execution_count": 40,
   "metadata": {},
   "outputs": [],
   "source": [
    "import sympy.ntheory\n",
    "import sympy.ntheory.primetest\n",
    "\n",
    "class NumberTheory:\n",
    "    def __init__(self, number) -> None:\n",
    "        # assert number >= 0, 'Number must be positive'\n",
    "        # assert isinstance(number, int), 'Number must be integers'\n",
    "        while not isinstance(number, int) or number < 0:\n",
    "            print(f'{number} is invalid. Number must be integer positive')\n",
    "            try:\n",
    "                number = input('Enter number: ')\n",
    "                number = int(number)\n",
    "            except ValueError:\n",
    "                # print(f'{number} is invalid. Number must be integer positive')\n",
    "                pass\n",
    "\n",
    "\n",
    "        self.number = number\n",
    "\n",
    "    def is_prime(self) -> bool:\n",
    "        if self.number < 2 or (self.number % 2 == 0 and self.number != 2):\n",
    "            return False\n",
    "\n",
    "        i = 2\n",
    "        while i < math.floor(math.sqrt(self.number))+1:\n",
    "            if self.number % i == 0:\n",
    "                return False\n",
    "            i += 1\n",
    "\n",
    "        return True\n",
    "\n",
    "    def is_composite(self) -> bool:\n",
    "        for i in range(2, self.number):\n",
    "            if self.number % i == 0:\n",
    "                return True\n",
    "\n",
    "        return False\n",
    "\n",
    "    def is_pseudoprime(self, base: int) -> bool:\n",
    "        \"\"\"Check if a number is Fermat pseudoprime to the base\"\"\"\n",
    "\n",
    "        if self.is_composite() and (base**(self.number-1) - 1) % self.number == 0:\n",
    "            return True\n",
    "\n",
    "        return False\n",
    "\n",
    "    def prime_factorization(self) -> dict[int, int]:\n",
    "        return factorint(self.number)\n",
    "\n",
    "    def is_carmichael(self) -> bool:\n",
    "        # check if number is odd or not, to speed up process\n",
    "        if self.number % 2 == 0:\n",
    "            return False\n",
    "\n",
    "        factorized = factorint(self.number)\n",
    "        # check if number is prime or not\n",
    "        if len(factorized) == 1:\n",
    "            return False\n",
    "\n",
    "        for prime, power in factorized.items():\n",
    "            # check if prime is distinct\n",
    "            if power != 1:\n",
    "                return False\n",
    "\n",
    "            if (self.number - 1) % (prime - 1) != 0:\n",
    "                return False\n",
    "\n",
    "        return True\n",
    "\n",
    "\n",
    "    # Bonus\n",
    "    # Class representation\n",
    "    def __str__(self):\n",
    "        return f'Number: {self.number}'\n",
    "\n",
    "    # Basic number operator with classes\n",
    "    def __add__(self, other):\n",
    "        return self.number + other.number\n",
    "\n",
    "    def __sub__(self, other):\n",
    "        if self.number - other.number < 0:\n",
    "            print('Cannot subtract, result is negative number')\n",
    "        else:\n",
    "            return self.number - other.number\n",
    "\n",
    "    def __mul__(self, other):\n",
    "        return self.number * other.number\n",
    "\n",
    "    def __truediv__(self, other):\n",
    "        # because we work on integers so this is equal to // operator\n",
    "        return self.number // other.number\n",
    "\n",
    "    def __floordiv__(self, other):\n",
    "        return self.number // other.number\n",
    "\n",
    "    def __mod__(self, other):\n",
    "        return self.number % other.number\n",
    "\n",
    "    def __pow__(self, other):\n",
    "        return self.number ** other.number\n",
    "\n",
    "    def is_euler_pseudoprime(self, base: int) -> bool:\n",
    "        return sympy.ntheory.primetest.is_euler_pseudoprime(self.number, base)\n",
    "\n",
    "    def is_perfect(self) -> bool:\n",
    "        return sympy.is_perfect(self.number)\n",
    "\n",
    "    def is_mersenne_prime(self) -> bool:\n",
    "        return sympy.is_mersenne_prime(self.number)"
   ]
  },
  {
   "cell_type": "code",
   "execution_count": 41,
   "metadata": {},
   "outputs": [
    {
     "name": "stdout",
     "output_type": "stream",
     "text": [
      "-123 is invalid. Number must be integer positive\n",
      "-234 is invalid. Number must be integer positive\n",
      "-5 is invalid. Number must be integer positive\n",
      "5.5 is invalid. Number must be integer positive\n",
      "1.5 is invalid. Number must be integer positive\n",
      "Number right now is 12\n"
     ]
    }
   ],
   "source": [
    "nt = NumberTheory(-123)\n",
    "print(f'Number right now is {nt.number}')"
   ]
  },
  {
   "cell_type": "code",
   "execution_count": 42,
   "metadata": {},
   "outputs": [
    {
     "name": "stdout",
     "output_type": "stream",
     "text": [
      "Number: 12\n"
     ]
    }
   ],
   "source": [
    "print(nt)"
   ]
  },
  {
   "cell_type": "markdown",
   "metadata": {},
   "source": [
    "### Primes & Composite & Prime factorization"
   ]
  },
  {
   "cell_type": "code",
   "execution_count": 43,
   "metadata": {},
   "outputs": [
    {
     "name": "stdout",
     "output_type": "stream",
     "text": [
      "21110269\n",
      "nt.is_prime() = False\n",
      "nt.is_composite() = True\n",
      "nt.prime_factorization() = {2447: 1, 8627: 1}\n"
     ]
    }
   ],
   "source": [
    "nt = NumberTheory(21110269)\n",
    "print(nt.number)\n",
    "print(f'{nt.is_prime() = }')\n",
    "print(f'{nt.is_composite() = }')\n",
    "print(f'{nt.prime_factorization() = }')"
   ]
  },
  {
   "cell_type": "code",
   "execution_count": 44,
   "metadata": {},
   "outputs": [
    {
     "data": {
      "text/plain": [
       "True"
      ]
     },
     "execution_count": 44,
     "metadata": {},
     "output_type": "execute_result"
    }
   ],
   "source": [
    "NumberTheory(2447).is_prime()"
   ]
  },
  {
   "cell_type": "code",
   "execution_count": 45,
   "metadata": {},
   "outputs": [
    {
     "name": "stdout",
     "output_type": "stream",
     "text": [
      "2 is prime\n",
      "3 is prime\n",
      "4 is composite, prime factorization: {2: 2}\n",
      "5 is prime\n",
      "6 is composite, prime factorization: {2: 1, 3: 1}\n",
      "7 is prime\n",
      "8 is composite, prime factorization: {2: 3}\n",
      "9 is composite, prime factorization: {3: 2}\n",
      "10 is composite, prime factorization: {2: 1, 5: 1}\n",
      "11 is prime\n",
      "12 is composite, prime factorization: {2: 2, 3: 1}\n",
      "13 is prime\n",
      "14 is composite, prime factorization: {2: 1, 7: 1}\n",
      "15 is composite, prime factorization: {3: 1, 5: 1}\n"
     ]
    }
   ],
   "source": [
    "for i in range(16):\n",
    "    nt = NumberTheory(i)\n",
    "    if nt.is_prime():\n",
    "        print(f'{i} is prime')\n",
    "    elif nt.is_composite():\n",
    "        print(f'{i} is composite', end=', ')\n",
    "        print(f'prime factorization: {nt.prime_factorization()}')"
   ]
  },
  {
   "cell_type": "markdown",
   "metadata": {},
   "source": [
    "### Pseudoprimes"
   ]
  },
  {
   "cell_type": "code",
   "execution_count": 46,
   "metadata": {},
   "outputs": [
    {
     "data": {
      "text/plain": [
       "True"
      ]
     },
     "execution_count": 46,
     "metadata": {},
     "output_type": "execute_result"
    }
   ],
   "source": [
    "NumberTheory(341).is_pseudoprime(2)"
   ]
  },
  {
   "cell_type": "code",
   "execution_count": 47,
   "metadata": {},
   "outputs": [
    {
     "data": {
      "text/plain": [
       "True"
      ]
     },
     "execution_count": 47,
     "metadata": {},
     "output_type": "execute_result"
    }
   ],
   "source": [
    "NumberTheory(645).is_pseudoprime(2)"
   ]
  },
  {
   "cell_type": "code",
   "execution_count": 48,
   "metadata": {},
   "outputs": [
    {
     "name": "stdout",
     "output_type": "stream",
     "text": [
      "Fermat psedoprimes to base 2 below 2000\n",
      "341, 561, 645, 1105, 1387, 1729, 1905, "
     ]
    }
   ],
   "source": [
    "base = 2\n",
    "print(f'Fermat psedoprimes to base {base} below 2000')\n",
    "for n in range(2000):\n",
    "    if NumberTheory(n).is_pseudoprime(base):\n",
    "        print(n, end=', ')"
   ]
  },
  {
   "cell_type": "markdown",
   "metadata": {},
   "source": [
    "References: [https://mathworld.wolfram.com/FermatPseudoprime.html](https://mathworld.wolfram.com/FermatPseudoprime.html), [https://oeis.org/A001567](https://oeis.org/A001567)"
   ]
  },
  {
   "cell_type": "markdown",
   "metadata": {},
   "source": [
    "### Camichael numbers"
   ]
  },
  {
   "cell_type": "code",
   "execution_count": 49,
   "metadata": {},
   "outputs": [
    {
     "data": {
      "text/plain": [
       "True"
      ]
     },
     "execution_count": 49,
     "metadata": {},
     "output_type": "execute_result"
    }
   ],
   "source": [
    "NumberTheory(561).is_carmichael()"
   ]
  },
  {
   "cell_type": "code",
   "execution_count": 50,
   "metadata": {},
   "outputs": [
    {
     "data": {
      "text/plain": [
       "True"
      ]
     },
     "execution_count": 50,
     "metadata": {},
     "output_type": "execute_result"
    }
   ],
   "source": [
    "NumberTheory(1105).is_carmichael()"
   ]
  },
  {
   "cell_type": "code",
   "execution_count": 51,
   "metadata": {},
   "outputs": [
    {
     "data": {
      "text/plain": [
       "True"
      ]
     },
     "execution_count": 51,
     "metadata": {},
     "output_type": "execute_result"
    }
   ],
   "source": [
    "NumberTheory(6601).is_carmichael()"
   ]
  },
  {
   "cell_type": "code",
   "execution_count": 52,
   "metadata": {},
   "outputs": [
    {
     "name": "stdout",
     "output_type": "stream",
     "text": [
      "561, 1105, 1729, 2465, 2821, 6601, 8911, 10585, 15841, 29341, 41041, 46657, 52633, 62745, 63973, 75361, \n",
      "Number of Camichael numbers not exceeding 100000: 16\n"
     ]
    }
   ],
   "source": [
    "cnt = 0\n",
    "for i in range(2, 100000):\n",
    "    n = NumberTheory(i)\n",
    "    if n.is_carmichael():\n",
    "        print(n.number, end=', ')\n",
    "        cnt += 1\n",
    "\n",
    "\n",
    "print(f'\\nNumber of Camichael numbers not exceeding 100000: {cnt}')"
   ]
  },
  {
   "cell_type": "markdown",
   "metadata": {},
   "source": [
    "References: [https://t5k.org/glossary/page.php?sort=CarmichaelNumber](https://t5k.org/glossary/page.php?sort=CarmichaelNumber)"
   ]
  },
  {
   "cell_type": "markdown",
   "metadata": {},
   "source": [
    "### Bonus"
   ]
  },
  {
   "cell_type": "code",
   "execution_count": 53,
   "metadata": {},
   "outputs": [
    {
     "name": "stdout",
     "output_type": "stream",
     "text": [
      "Number: 123\n"
     ]
    }
   ],
   "source": [
    "print(NumberTheory(123))"
   ]
  },
  {
   "cell_type": "code",
   "execution_count": 54,
   "metadata": {},
   "outputs": [
    {
     "name": "stdout",
     "output_type": "stream",
     "text": [
      "a = 10\n",
      "b = 3\n",
      "a + b = 13\n",
      "a - b = 7\n",
      "a * b = 30\n",
      "a / b = 3\n",
      "a // b = 3\n",
      "a ** b = 1000\n",
      "a % b = 1\n"
     ]
    }
   ],
   "source": [
    "a = NumberTheory(10)\n",
    "print('a =', a.number)\n",
    "b = NumberTheory(3)\n",
    "print('b =', b.number)\n",
    "print(f'{a + b = }')\n",
    "print(f'{a - b = }')\n",
    "print(f'{a * b = }')\n",
    "print(f'{a / b = }')\n",
    "print(f'{a // b = }')\n",
    "print(f'{a ** b = }')\n",
    "print(f'{a % b = }')"
   ]
  },
  {
   "cell_type": "code",
   "execution_count": 55,
   "metadata": {},
   "outputs": [
    {
     "name": "stdout",
     "output_type": "stream",
     "text": [
      "Cannot subtract, result is negative number\n",
      "b - a = None\n"
     ]
    }
   ],
   "source": [
    "print(f'{b - a = }')"
   ]
  },
  {
   "cell_type": "code",
   "execution_count": 56,
   "metadata": {},
   "outputs": [
    {
     "data": {
      "text/plain": [
       "True"
      ]
     },
     "execution_count": 56,
     "metadata": {},
     "output_type": "execute_result"
    }
   ],
   "source": [
    "NumberTheory(2).is_euler_pseudoprime(5)"
   ]
  },
  {
   "cell_type": "code",
   "execution_count": 57,
   "metadata": {},
   "outputs": [
    {
     "name": "stdout",
     "output_type": "stream",
     "text": [
      "Number: 3 is a Mersenne prime\n",
      "Number: 6 is a perfect number\n",
      "Number: 7 is a Mersenne prime\n",
      "Number: 28 is a perfect number\n",
      "Number: 31 is a Mersenne prime\n"
     ]
    }
   ],
   "source": [
    "for i in range(100):\n",
    "    n = NumberTheory(i)\n",
    "    if n.is_perfect():\n",
    "        print(n, 'is a perfect number')\n",
    "    if n.is_mersenne_prime():\n",
    "        print(n, 'is a Mersenne prime')"
   ]
  }
 ],
 "metadata": {
  "kernelspec": {
   "display_name": "Python 3",
   "language": "python",
   "name": "python3"
  },
  "language_info": {
   "codemirror_mode": {
    "name": "ipython",
    "version": 3
   },
   "file_extension": ".py",
   "mimetype": "text/x-python",
   "name": "python",
   "nbconvert_exporter": "python",
   "pygments_lexer": "ipython3",
   "version": "3.10.6"
  }
 },
 "nbformat": 4,
 "nbformat_minor": 2
}
